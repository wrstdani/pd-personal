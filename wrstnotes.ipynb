{
 "cells": [
  {
   "attachments": {},
   "cell_type": "markdown",
   "metadata": {},
   "source": [
    "# $Tema\\:2.\\:Lenguajes\\:fuertemente\\:tipados\\:vs.\\:dinámicos$"
   ]
  },
  {
   "attachments": {},
   "cell_type": "markdown",
   "metadata": {},
   "source": [
    "### $2.2\\:Tipado\\:estático$"
   ]
  },
  {
   "attachments": {},
   "cell_type": "markdown",
   "metadata": {},
   "source": [
    "#### $Tipos\\:en\\:Scala$"
   ]
  },
  {
   "attachments": {},
   "cell_type": "markdown",
   "metadata": {},
   "source": [
    "**Scala** es un lenguaje fuertemente tipado. Es por ello que en funciones como la siguiente hemos de especificar el tipo de dato que se espera a la entrada y a la salida de las funciones."
   ]
  },
  {
   "cell_type": "code",
   "execution_count": null,
   "metadata": {},
   "outputs": [],
   "source": [
    "// Devolverá true si el número de letras en la string\n",
    "// es par, si no, devolverá false.\n",
    "\n",
    "def isEvenLength(x: String) =\n",
    "    x.length % 2 == 0"
   ]
  },
  {
   "attachments": {},
   "cell_type": "markdown",
   "metadata": {},
   "source": [
    "Ahora comprobaremos el correcto funcionamiento de `isEvenLength`:"
   ]
  },
  {
   "cell_type": "code",
   "execution_count": null,
   "metadata": {},
   "outputs": [],
   "source": [
    "isEvenLength(\"Hola\") // 4 letras, even/par\n",
    "isEvenLength(\"Cinco\") // 5 letras, even/par"
   ]
  },
  {
   "cell_type": "code",
   "execution_count": null,
   "metadata": {},
   "outputs": [],
   "source": [
    "isEvenLength(512) // El input es un int"
   ]
  },
  {
   "attachments": {},
   "cell_type": "markdown",
   "metadata": {},
   "source": [
    "Como podemos observar en el bloque anterior, si le pasamos un argumento de un tipo distinto a `String` a la función `isEvenLength` nos dará un error de compilación (_type error_)."
   ]
  },
  {
   "attachments": {},
   "cell_type": "markdown",
   "metadata": {},
   "source": [
    "Como podemos observar en la siguiente función (`foo`), el compilador no da error a pesar de que en la misma hemos definido una división entre 0. No obstante, si ejecutamos la función, nos dará un error de ejecución (_runtime error_)."
   ]
  },
  {
   "cell_type": "code",
   "execution_count": null,
   "metadata": {},
   "outputs": [],
   "source": [
    "def foo = 1/0"
   ]
  },
  {
   "cell_type": "code",
   "execution_count": null,
   "metadata": {},
   "outputs": [],
   "source": [
    "foo"
   ]
  },
  {
   "attachments": {},
   "cell_type": "markdown",
   "metadata": {},
   "source": [
    "#### $Inferencia\\:de\\:tipos$"
   ]
  },
  {
   "attachments": {},
   "cell_type": "markdown",
   "metadata": {},
   "source": [
    "El compilador de **Scala** es capaz de inferir el tipo de dato de una función a sí misma. Por ejemplo, en la función `isEvenLength` no hemos especificado un tipo de output, pero el compilador lo infiere por sí mismo."
   ]
  },
  {
   "attachments": {},
   "cell_type": "markdown",
   "metadata": {},
   "source": [
    "#### $Ascripción\\:de\\:tipos$"
   ]
  },
  {
   "cell_type": "code",
   "execution_count": null,
   "metadata": {},
   "outputs": [],
   "source": [
    "(2: Int) + (4: Int)"
   ]
  },
  {
   "attachments": {},
   "cell_type": "markdown",
   "metadata": {},
   "source": [
    "En el caso superior, le decimos al compilador que los datos 2 y 4 son de tipo `Int`, aunque el compilador lo infiera por sí mismo. Esto se conoce como _ascripción de tipos_."
   ]
  },
  {
   "attachments": {},
   "cell_type": "markdown",
   "metadata": {},
   "source": [
    "### $2.3\\:Programación\\:estructurada\\:en\\:Scala$"
   ]
  },
  {
   "attachments": {},
   "cell_type": "markdown",
   "metadata": {},
   "source": [
    "#### $Variables,\\:valores\\:y\\:tipos$"
   ]
  },
  {
   "cell_type": "code",
   "execution_count": null,
   "metadata": {},
   "outputs": [],
   "source": [
    "var x: Int = 3"
   ]
  },
  {
   "attachments": {},
   "cell_type": "markdown",
   "metadata": {},
   "source": [
    "En el ejemplo de arriba, `a` será el nombre de la variable, `Int` será el tipo de dato y `1`, el valor inicial de la variable. "
   ]
  },
  {
   "cell_type": "code",
   "execution_count": null,
   "metadata": {},
   "outputs": [],
   "source": [
    "// El valor inicial de la x será\n",
    "\n",
    "x"
   ]
  },
  {
   "cell_type": "code",
   "execution_count": null,
   "metadata": {},
   "outputs": [],
   "source": [
    "// Cambiamos su valor\n",
    "\n",
    "x = 7"
   ]
  },
  {
   "cell_type": "code",
   "execution_count": null,
   "metadata": {},
   "outputs": [],
   "source": [
    "// Nuevo valor de la x\n",
    "\n",
    "x"
   ]
  },
  {
   "attachments": {},
   "cell_type": "markdown",
   "metadata": {},
   "source": [
    "Existen otro tipo de variables: las **variables inmutables** (_`val`_)."
   ]
  },
  {
   "cell_type": "code",
   "execution_count": null,
   "metadata": {},
   "outputs": [],
   "source": [
    "val y: Int = 2"
   ]
  },
  {
   "cell_type": "code",
   "execution_count": null,
   "metadata": {},
   "outputs": [],
   "source": [
    "y = 3"
   ]
  },
  {
   "attachments": {},
   "cell_type": "markdown",
   "metadata": {},
   "source": [
    "Como podemos observar, la variablle `y` no puede ser modificada, ya que es una variable inmutable."
   ]
  },
  {
   "attachments": {},
   "cell_type": "markdown",
   "metadata": {},
   "source": [
    "#### $Methods$"
   ]
  },
  {
   "cell_type": "code",
   "execution_count": null,
   "metadata": {},
   "outputs": [],
   "source": [
    "import scala.math.{pow, Pi}\n",
    "\n",
    "def circleArea(radius: Double): Double =\n",
    "    Pi * pow(radius, 2)"
   ]
  },
  {
   "attachments": {},
   "cell_type": "markdown",
   "metadata": {},
   "source": [
    "Los `methods` representan el comportqamiento de `classes` y `objects`."
   ]
  },
  {
   "attachments": {},
   "cell_type": "markdown",
   "metadata": {},
   "source": [
    "Con el siguiente bloque de código podemos averiguar los tipos de datos(_input_ y _output_) de una función `method` (en este caso, `CircleArea`)."
   ]
  },
  {
   "cell_type": "code",
   "execution_count": null,
   "metadata": {},
   "outputs": [],
   "source": [
    "circleArea _"
   ]
  },
  {
   "attachments": {},
   "cell_type": "markdown",
   "metadata": {},
   "source": [
    "#### $Estructuras\\:de\\:control$"
   ]
  },
  {
   "attachments": {},
   "cell_type": "markdown",
   "metadata": {},
   "source": [
    "##### $For-loops$"
   ]
  },
  {
   "attachments": {},
   "cell_type": "markdown",
   "metadata": {},
   "source": [
    "Como ejemplo para explicar los bucles `for`, usaremos el siguiente bloque:"
   ]
  },
  {
   "cell_type": "code",
   "execution_count": null,
   "metadata": {},
   "outputs": [],
   "source": [
    "def sumatorio(a: Int, b: Int): Int = {\n",
    "    var contador: Int = 0\n",
    "    for (i <- a to b)\n",
    "        contador += i\n",
    "    contador\n",
    "}"
   ]
  },
  {
   "attachments": {},
   "cell_type": "markdown",
   "metadata": {},
   "source": [
    "Como podemos ver, el sumatorio está definido con una función `method` que recibe dos argumentos (`a` y `b`), los cuales son de tipo `Int`, y devuelve otro `Int`. En cuanto a su funcionamiento, declaramos una variable `contador` y le damos un valor original (el cual variará en cada iteración del bucle) de `0`. El bucle for comenzará en el valor de `a` y terminará en el valor de `b`. En cada iteración de este bucle se sumará la propia variable `i`, y se almacenará en `contador`."
   ]
  },
  {
   "cell_type": "code",
   "execution_count": null,
   "metadata": {},
   "outputs": [],
   "source": [
    "// Cuando la función no devuelve nada, se utiliza Unit como \n",
    "// output.\n",
    "def bucleCuadrados(a: Int, b: Int): Unit = {\n",
    "    for (i <- a to b)\n",
    "        println(\"El cuadrado de \" + i + \" es \" + i*i + \".\")\n",
    "}"
   ]
  },
  {
   "cell_type": "code",
   "execution_count": null,
   "metadata": {},
   "outputs": [],
   "source": [
    "bucleCuadrados(1, 6)"
   ]
  },
  {
   "attachments": {},
   "cell_type": "markdown",
   "metadata": {},
   "source": [
    "##### $If-then-else\\:expressions$"
   ]
  },
  {
   "cell_type": "code",
   "execution_count": null,
   "metadata": {},
   "outputs": [],
   "source": [
    "import scala.math.sqrt\n",
    "\n",
    "def esPrimo(n: Int): Boolean =\n",
    "    if (n <= 3)\n",
    "        n > 1\n",
    "    else if (n % 2 == 0 || n % 3 == 0) \n",
    "        false\n",
    "    else{\n",
    "        val limite: Int = sqrt(n).toInt\n",
    "        for (i <- 5 to (limite + 1) by 6) {\n",
    "            if (n % i == 0 || n % (i + 2) == 0)\n",
    "                false\n",
    "        }\n",
    "        true\n",
    "    }"
   ]
  },
  {
   "attachments": {},
   "cell_type": "markdown",
   "metadata": {},
   "source": [
    "##### $While\\:statements$"
   ]
  },
  {
   "cell_type": "code",
   "execution_count": null,
   "metadata": {},
   "outputs": [],
   "source": [
    "import scala.math.sqrt\n",
    "\n",
    "def esPrimoWhile(n: Int): Boolean =\n",
    "    if (n <= 3) n > 1\n",
    "    else if (n % 2 == 0 || n % 3 == 0) false\n",
    "    else {\n",
    "        val limit: Int = sqrt(n).toInt\n",
    "        var out = true\n",
    "        var i = 5\n",
    "        while (i <= limit+1 && out){\n",
    "            out = n % i != 0 && n % (i+2) != 0\n",
    "            i += 6\n",
    "        }\n",
    "        out\n",
    "    }"
   ]
  },
  {
   "cell_type": "code",
   "execution_count": null,
   "metadata": {},
   "outputs": [],
   "source": [
    "assert(esPrimoWhile(5))\n",
    "assert(esPrimoWhile(13))\n",
    "assert(!esPrimoWhile(15))\n",
    "assert(esPrimoWhile(1279))\n",
    "assert(!esPrimoWhile(200001))"
   ]
  },
  {
   "attachments": {},
   "cell_type": "markdown",
   "metadata": {},
   "source": [
    "## $Tema\\:3.\\:Datos\\:de\\:tipo\\:algebraico$"
   ]
  },
  {
   "attachments": {},
   "cell_type": "markdown",
   "metadata": {},
   "source": [
    "### $3.1\\:Funciones$"
   ]
  },
  {
   "attachments": {},
   "cell_type": "markdown",
   "metadata": {},
   "source": [
    "Las funciones puras sólo transforman un `input` en un `output`, y nada más."
   ]
  },
  {
   "cell_type": "code",
   "execution_count": null,
   "metadata": {},
   "outputs": [],
   "source": [
    "// Esta función suma 1 a la variable input de tipo Int.\n",
    "\n",
    "def pureAdd(input: Int): Int = {\n",
    "    input + 1\n",
    "}"
   ]
  },
  {
   "cell_type": "code",
   "execution_count": null,
   "metadata": {},
   "outputs": [],
   "source": [
    "pureAdd(3)"
   ]
  },
  {
   "attachments": {},
   "cell_type": "markdown",
   "metadata": {},
   "source": [
    "En cambio, las funciones impuras son aquellas que hacen algo más que devolver un `output`. La programación funcional se basa en el uso de funciones puras únicamente."
   ]
  },
  {
   "cell_type": "code",
   "execution_count": null,
   "metadata": {},
   "outputs": [],
   "source": [
    "def impureAdd(input: Int): Int = {\n",
    "    println(\"Sumamos 1 a \" + input + \".\")\n",
    "    input + 1\n",
    "}"
   ]
  },
  {
   "cell_type": "code",
   "execution_count": null,
   "metadata": {},
   "outputs": [],
   "source": [
    "impureAdd(3)"
   ]
  },
  {
   "attachments": {},
   "cell_type": "markdown",
   "metadata": {},
   "source": [
    "Las funciones impuras pueden aportar diversas funciones, como leer un input del usuario, escribir en la consola, etc. Esta clase de efectos son imprescindibles para que un programa sea realmente útil, por lo que las funciones puras se quedan cortas."
   ]
  },
  {
   "attachments": {},
   "cell_type": "markdown",
   "metadata": {},
   "source": [
    "#### $Funciones\\:aplicadas\\:a\\:modularidad$"
   ]
  },
  {
   "cell_type": "code",
   "execution_count": null,
   "metadata": {},
   "outputs": [],
   "source": [
    "val config: Map[String, String] = \n",
    "    Map(\"URL\" -> \"http://hablapps.com\",\n",
    "        \"PORT\" -> \"8080\")"
   ]
  },
  {
   "attachments": {},
   "cell_type": "markdown",
   "metadata": {},
   "source": [
    "La función del bloque superior declara los valores `\"URL\"` y `\"PORT\"`.\n",
    "Las dos siguientes `url` y `port` devuelven los valores de `\"URL\"` y `\"PORT\"`, respectivamente."
   ]
  },
  {
   "cell_type": "code",
   "execution_count": null,
   "metadata": {},
   "outputs": [],
   "source": [
    "val url: String = config.get(\"URL\") match {\n",
    "    case Some(u) => u\n",
    "    case None => \"default.url\"\n",
    "}"
   ]
  },
  {
   "cell_type": "code",
   "execution_count": null,
   "metadata": {},
   "outputs": [],
   "source": [
    "val port: String = config.get(\"PORT\") match {\n",
    "    case Some(p) => p \n",
    "    case None => \"8080\"\n",
    "}"
   ]
  },
  {
   "attachments": {},
   "cell_type": "markdown",
   "metadata": {},
   "source": [
    "Las funciones `url` y `port` (**monolíticas**) hacen prácticamente lo mismo, por lo que podemos definir una función **polimórfica** que haga lo mismo que ambas."
   ]
  },
  {
   "cell_type": "code",
   "execution_count": null,
   "metadata": {},
   "outputs": [],
   "source": [
    "def getKeyFrom(\n",
    "    config: Map[String, String],\n",
    "    key: String,\n",
    "    default: String): String = {\n",
    "        config.get(key) match {\n",
    "            case Some(p) => p\n",
    "            case None => default\n",
    "        }\n",
    "    }"
   ]
  },
  {
   "cell_type": "code",
   "execution_count": null,
   "metadata": {},
   "outputs": [],
   "source": [
    "val url: String = getKeyFrom(config, \"URL\", \"default.url\")"
   ]
  },
  {
   "cell_type": "code",
   "execution_count": null,
   "metadata": {},
   "outputs": [],
   "source": [
    "val port: String = getKeyFrom(config, \"PORT\", \"8080\")"
   ]
  },
  {
   "attachments": {},
   "cell_type": "markdown",
   "metadata": {},
   "source": [
    "#### $Funciones\\:método$"
   ]
  },
  {
   "attachments": {},
   "cell_type": "markdown",
   "metadata": {},
   "source": [
    "En un lenguaje orientado a objetos (como **Scala** o **Java**) las funciones se implementan como métodos usando `def`. Dichos métodos forman parte de un `object`, `class` o `trait`."
   ]
  },
  {
   "cell_type": "code",
   "execution_count": null,
   "metadata": {},
   "outputs": [],
   "source": [
    "import scala.math.{pow, Pi}\n",
    "\n",
    "object areaFormas {\n",
    "    def areaCirculo(radio: Double): Double = {\n",
    "        Pi * pow(radio, 2)\n",
    "    }\n",
    "\n",
    "    def areaRectangulo(ancho: Double, alto: Double): Double = {\n",
    "        ancho * alto\n",
    "    }\n",
    "}"
   ]
  },
  {
   "attachments": {},
   "cell_type": "markdown",
   "metadata": {},
   "source": [
    "A pesar de que en los `Jupyter Notebooks` parece que las funciones son independientes, no lo son."
   ]
  },
  {
   "attachments": {},
   "cell_type": "markdown",
   "metadata": {},
   "source": [
    "#### $Funciones\\:valor$"
   ]
  },
  {
   "attachments": {},
   "cell_type": "markdown",
   "metadata": {},
   "source": [
    "Las funciones pueden representarse como _values_, lo que permite implementar funciones que recivan otras funciones como argumentos. Estas se llaman _higher-order functions_ (HOF)."
   ]
  },
  {
   "cell_type": "code",
   "execution_count": null,
   "metadata": {},
   "outputs": [],
   "source": [
    "val i: Int = 3\n",
    "val s: String = \"hola\"\n",
    "val b: Boolean = true"
   ]
  },
  {
   "cell_type": "code",
   "execution_count": null,
   "metadata": {},
   "outputs": [],
   "source": [
    "// Funciones método\n",
    "\n",
    "def sumarUnoMet(n: Int): Int = {\n",
    "    n + 1\n",
    "}\n",
    "\n",
    "def restarUnoMet(n: Int): Int = {\n",
    "    n - 1\n",
    "}\n",
    "\n",
    "// Funciones valor\n",
    "\n",
    "val sumarUnoVal: Int => Int = {\n",
    "    (a: Int) => a + 1\n",
    "}\n",
    "\n",
    "val restarUnoVal: Int => Int = {\n",
    "    (a: Int) => a - 1\n",
    "}"
   ]
  },
  {
   "attachments": {},
   "cell_type": "markdown",
   "metadata": {},
   "source": [
    "En el caso de las funciones `sumarUnoVal` y `restarUnoVal` del bloque superior, las dos variables se llaman `sumarUnoVal` y `restarUnoVal`. A ellas se les asignan los _function values_ `(a: Int) => a + 1` y `(a: Int) => a - 1`, respectivamente. El tipo de ambas funciones es `Int => Int`. Esto se traduce en que las funciones valor constan de 2 partes: el **_input_** y el **_body_**, siendo la estructura: `(...input....) => body`. Cada argumento de entrada declara una variable y su respectivo tipo."
   ]
  },
  {
   "attachments": {},
   "cell_type": "markdown",
   "metadata": {},
   "source": [
    "Las funciones valor se comportan de la misma manera que las funciones método."
   ]
  },
  {
   "cell_type": "code",
   "execution_count": null,
   "metadata": {},
   "outputs": [],
   "source": [
    "sumarUnoVal(5)\n",
    "sumarUnoMet(5)\n",
    "restarUnoVal(5)\n",
    "restarUnoMet(5)"
   ]
  },
  {
   "attachments": {},
   "cell_type": "markdown",
   "metadata": {},
   "source": [
    "#### $Higher-order\\:functions\\:(HOF)$"
   ]
  },
  {
   "attachments": {},
   "cell_type": "markdown",
   "metadata": {},
   "source": [
    "Las **HOF** pueden recibir y/o devolver otras funciones."
   ]
  },
  {
   "cell_type": "code",
   "execution_count": null,
   "metadata": {},
   "outputs": [],
   "source": [
    "def call(def int2int(n: Int): Int, n: Int): Int = {\n",
    "    int2int(n)\n",
    "}"
   ]
  },
  {
   "attachments": {},
   "cell_type": "markdown",
   "metadata": {},
   "source": [
    "El código superior no es legal, ya que usamos **funciones método** (`def`). Es por ello que necesitamos **funciones valor**."
   ]
  },
  {
   "cell_type": "code",
   "execution_count": null,
   "metadata": {},
   "outputs": [],
   "source": [
    "def call(int2int: Int => Int, n: Int): Int = {\n",
    "    int2int(n)\n",
    "}"
   ]
  },
  {
   "cell_type": "code",
   "execution_count": null,
   "metadata": {},
   "outputs": [],
   "source": [
    "call(sumarUnoVal, 5)\n",
    "call(restarUnoVal, 5)"
   ]
  },
  {
   "attachments": {},
   "cell_type": "markdown",
   "metadata": {},
   "source": [
    "Como podemos ver, la función método `call` recibe 2 argumentos: por una parte, la función valor `int2int`, la cual se declara en la propia función método `call`, y por otra, un Int `n`."
   ]
  },
  {
   "cell_type": "code",
   "execution_count": null,
   "metadata": {},
   "outputs": [],
   "source": [
    "call(sumarUnoMet, 5)\n",
    "call(restarUnoMet, 5)"
   ]
  },
  {
   "attachments": {},
   "cell_type": "markdown",
   "metadata": {},
   "source": [
    "Además, podemos incluso usar otras **funciones método** como argumentos de entrada que se convierten al momento en **funciones valor**."
   ]
  },
  {
   "attachments": {},
   "cell_type": "markdown",
   "metadata": {},
   "source": [
    "Esta conversión se llama _eta-expansion_."
   ]
  },
  {
   "attachments": {},
   "cell_type": "markdown",
   "metadata": {},
   "source": [
    "#### $Currying$"
   ]
  },
  {
   "attachments": {},
   "cell_type": "markdown",
   "metadata": {},
   "source": [
    "Queremos convertir la siguiente función método `sumar2IntsMet` en una función valor."
   ]
  },
  {
   "cell_type": "code",
   "execution_count": null,
   "metadata": {},
   "outputs": [],
   "source": [
    "def sumar2IntsMet(x: Int, y: Int): Int = {\n",
    "    x + y\n",
    "}"
   ]
  },
  {
   "attachments": {},
   "cell_type": "markdown",
   "metadata": {},
   "source": [
    "Podemos hacer lo siguiente:"
   ]
  },
  {
   "cell_type": "code",
   "execution_count": null,
   "metadata": {},
   "outputs": [],
   "source": [
    "val sumar2IntsVal: (Int, Int) => Int = {\n",
    "    (a: Int, b: Int) => a + b\n",
    "}"
   ]
  },
  {
   "attachments": {},
   "cell_type": "markdown",
   "metadata": {},
   "source": [
    "O podemos servirnos de la **inferencia de tipos**."
   ]
  },
  {
   "cell_type": "code",
   "execution_count": null,
   "metadata": {},
   "outputs": [],
   "source": [
    "val sumar2IntsValInf: (Int, Int) => Int = {\n",
    "    (a, b) => a + b\n",
    "}"
   ]
  },
  {
   "attachments": {},
   "cell_type": "markdown",
   "metadata": {},
   "source": [
    "Normalmente podemos utilizar una función de un único argumento de entrada, pero si necesitamos crear una función de dos argumentos con uno solo podemos hacer lo siguiente:"
   ]
  },
  {
   "cell_type": "code",
   "execution_count": null,
   "metadata": {},
   "outputs": [],
   "source": [
    "val sumaCurr: Int => (Int => Int) = {\n",
    "    (a: Int) => (b: Int) => a + b\n",
    "}"
   ]
  },
  {
   "attachments": {},
   "cell_type": "markdown",
   "metadata": {},
   "source": [
    "Los paréntesis en `Int => (Int => Int)` no son necesarios, solo se utilizan para clarificar la expresión."
   ]
  },
  {
   "cell_type": "code",
   "execution_count": null,
   "metadata": {},
   "outputs": [],
   "source": [
    "sumaCurr(1): (Int => Int)"
   ]
  },
  {
   "cell_type": "code",
   "execution_count": null,
   "metadata": {},
   "outputs": [],
   "source": [
    "sumaCurr(1)(2)"
   ]
  },
  {
   "attachments": {},
   "cell_type": "markdown",
   "metadata": {},
   "source": [
    "Podemos aplicar esta técnica a funciones de cualquier número de argumentos. Su nombre es **_currying_**."
   ]
  },
  {
   "cell_type": "code",
   "execution_count": null,
   "metadata": {},
   "outputs": [],
   "source": [
    "def suma(x: Int)(y: Int): Int = {\n",
    "    x + y\n",
    "}"
   ]
  },
  {
   "cell_type": "code",
   "execution_count": null,
   "metadata": {},
   "outputs": [],
   "source": [
    "suma(1)(2)"
   ]
  },
  {
   "attachments": {},
   "cell_type": "markdown",
   "metadata": {},
   "source": [
    "#### $Composición\\:de\\:funciones$"
   ]
  },
  {
   "cell_type": "code",
   "execution_count": null,
   "metadata": {},
   "outputs": [],
   "source": [
    "val longPar: String => Boolean = {\n",
    "    (s: String) => s.length % 2 == 0\n",
    "}"
   ]
  },
  {
   "cell_type": "code",
   "execution_count": null,
   "metadata": {},
   "outputs": [],
   "source": [
    "longPar(\"hola\")"
   ]
  },
  {
   "attachments": {},
   "cell_type": "markdown",
   "metadata": {},
   "source": [
    "La función `longPar` es una combinación de dos funciones más básicas llamadas que llamaremos `long` y `esPar`."
   ]
  },
  {
   "cell_type": "code",
   "execution_count": null,
   "metadata": {},
   "outputs": [],
   "source": [
    "val long: String => Int = {\n",
    "    // sin inferencia de tipos:\n",
    "    // (s: String) => s.length\n",
    "    s => s.length\n",
    "}"
   ]
  },
  {
   "cell_type": "code",
   "execution_count": null,
   "metadata": {},
   "outputs": [],
   "source": [
    "val esPar: Int => Boolean = {\n",
    "    // sin inferencia de tipos:\n",
    "    // (i: Int) => i % 2 == 0\n",
    "    i => i % 2 == 0\n",
    "}"
   ]
  },
  {
   "attachments": {},
   "cell_type": "markdown",
   "metadata": {},
   "source": [
    "Podemos observar que en la siguiente función, llamada `longImpar`, ocurre lo mismo: "
   ]
  },
  {
   "cell_type": "code",
   "execution_count": null,
   "metadata": {},
   "outputs": [],
   "source": [
    "val longImpar: String => Boolean = {\n",
    "    (s: String) => s.toInt % 2 == 1\n",
    "}"
   ]
  },
  {
   "cell_type": "code",
   "execution_count": null,
   "metadata": {},
   "outputs": [],
   "source": [
    "val toInt: String => Int = {\n",
    "    (x: String) => x.toInt\n",
    "}\n",
    "\n",
    "val esImpar: Int => Boolean = {\n",
    "    (i: Int) => !esPar(i)\n",
    "}"
   ]
  },
  {
   "attachments": {},
   "cell_type": "markdown",
   "metadata": {},
   "source": [
    "Podemos crear una _higher-order function_ que nos permita componer dos funciones:"
   ]
  },
  {
   "cell_type": "code",
   "execution_count": null,
   "metadata": {},
   "outputs": [],
   "source": [
    "def compose(f2: Int => Boolean, f1: String => Int): String => Boolean = {\n",
    "    (a: String) => f2(f1(a))\n",
    "}"
   ]
  },
  {
   "cell_type": "code",
   "execution_count": null,
   "metadata": {},
   "outputs": [],
   "source": [
    "val esParComp: String => Boolean = {\n",
    "    compose(esPar, long)\n",
    "}"
   ]
  },
  {
   "cell_type": "code",
   "execution_count": null,
   "metadata": {},
   "outputs": [],
   "source": [
    "val esImparComp: String => Boolean = {\n",
    "    compose(esImpar, toInt)\n",
    "}"
   ]
  },
  {
   "attachments": {},
   "cell_type": "markdown",
   "metadata": {},
   "source": [
    "La función `compose` está definida por `Function1`:"
   ]
  },
  {
   "cell_type": "code",
   "execution_count": null,
   "metadata": {},
   "outputs": [],
   "source": [
    "val longPar: String => Boolean = {\n",
    "    esPar.compose(long)\n",
    "}"
   ]
  },
  {
   "cell_type": "code",
   "execution_count": null,
   "metadata": {},
   "outputs": [],
   "source": [
    "val longPar: String => Boolean = {\n",
    "    esPar compose long\n",
    "}"
   ]
  },
  {
   "attachments": {},
   "cell_type": "markdown",
   "metadata": {},
   "source": [
    "También existe una función similar a `compose` llamada `andThen` en la librería estándar de Scala:"
   ]
  },
  {
   "cell_type": "code",
   "execution_count": null,
   "metadata": {},
   "outputs": [],
   "source": [
    "val longPar: String => Boolean = {\n",
    "    long andThen esPar\n",
    "}"
   ]
  },
  {
   "cell_type": "code",
   "execution_count": null,
   "metadata": {},
   "outputs": [],
   "source": [
    "longPar(\"hola\")"
   ]
  },
  {
   "attachments": {},
   "cell_type": "markdown",
   "metadata": {},
   "source": [
    "#### $Polimorfismo\\:paramétrico$"
   ]
  },
  {
   "cell_type": "code",
   "execution_count": null,
   "metadata": {},
   "outputs": [],
   "source": [
    "val primerDigito: Int => Char = {\n",
    "    (x: Int) => x.toString.apply(0)\n",
    "}"
   ]
  },
  {
   "attachments": {},
   "cell_type": "markdown",
   "metadata": {},
   "source": [
    "En el caso de la función `primerDigito`, nos encontramos ante una composición de las funciones siguientes:"
   ]
  },
  {
   "cell_type": "code",
   "execution_count": null,
   "metadata": {},
   "outputs": [],
   "source": [
    "val intToString: Int => String = {\n",
    "    (x: Int) => x.toString\n",
    "}\n",
    "\n",
    "val caracter0: String => Char = {\n",
    "    (x: String) => x.apply(0)\n",
    "}"
   ]
  },
  {
   "attachments": {},
   "cell_type": "markdown",
   "metadata": {},
   "source": [
    "No podemos utilizar la función `compose` anterior, puesto que es monolítica. Por ello, necesitamos una función polimórfica:"
   ]
  },
  {
   "cell_type": "code",
   "execution_count": null,
   "metadata": {},
   "outputs": [],
   "source": [
    "def composePol[A, B, C](f2: B => C, f1: A => B): A => C = {\n",
    "    (a: A) => f2(f1(a))\n",
    "}"
   ]
  },
  {
   "cell_type": "code",
   "execution_count": null,
   "metadata": {},
   "outputs": [],
   "source": [
    "val primerDigitoComp: Int => Char = {\n",
    "    composePol(caracter0, intToString)\n",
    "}"
   ]
  },
  {
   "attachments": {},
   "cell_type": "markdown",
   "metadata": {},
   "source": [
    "La versión _curried_ de la función `composePol` es la siguiente:"
   ]
  },
  {
   "cell_type": "code",
   "execution_count": null,
   "metadata": {},
   "outputs": [],
   "source": [
    "def compose[A, B, C]: (B => C) => (A => B) => A => C = {\n",
    "    (f2: (B => C)) => (f1: (A => B)) => (a: A) => f2(f1(a))\n",
    "}"
   ]
  },
  {
   "attachments": {},
   "cell_type": "markdown",
   "metadata": {},
   "source": [
    "También existe la función `identity`, la cual devuelve el mismo valor que recibe como argumento. "
   ]
  },
  {
   "cell_type": "code",
   "execution_count": null,
   "metadata": {},
   "outputs": [],
   "source": [
    "def identity[A](a: A): A = a"
   ]
  },
  {
   "attachments": {},
   "cell_type": "markdown",
   "metadata": {},
   "source": [
    "También la podemos definir como expresión **_lambda_**:"
   ]
  },
  {
   "cell_type": "code",
   "execution_count": null,
   "metadata": {},
   "outputs": [],
   "source": [
    "def identity[A]: A => A = {\n",
    "    (a: A) => a\n",
    "}"
   ]
  },
  {
   "attachments": {},
   "cell_type": "markdown",
   "metadata": {},
   "source": [
    "#### $Azúcar\\:sintáctico\\:para\\:funciones\\:valor$"
   ]
  },
  {
   "attachments": {},
   "cell_type": "markdown",
   "metadata": {},
   "source": [
    "Podemos omitir los tipos de argumentos de entrada:"
   ]
  },
  {
   "cell_type": "code",
   "execution_count": null,
   "metadata": {},
   "outputs": [],
   "source": [
    "val sumarUnoVal: Int => Int = {\n",
    "    a => a + 1\n",
    "}\n",
    "\n",
    "val restarUnoVal: Int => Int = {\n",
    "    a => a - 1\n",
    "}"
   ]
  },
  {
   "attachments": {},
   "cell_type": "markdown",
   "metadata": {},
   "source": [
    "También podemos usar la **_underscore syntax_**:"
   ]
  },
  {
   "cell_type": "code",
   "execution_count": null,
   "metadata": {},
   "outputs": [],
   "source": [
    "val sumarUnoValUnder: Int => Int = {\n",
    "    _ + 1\n",
    "}\n",
    "\n",
    "val productoUnder: (Int, Int) => Int = {\n",
    "    _ * _\n",
    "}"
   ]
  },
  {
   "attachments": {},
   "cell_type": "markdown",
   "metadata": {},
   "source": [
    "#### $Funciones\\:como\\:valores$"
   ]
  },
  {
   "attachments": {},
   "cell_type": "markdown",
   "metadata": {},
   "source": [
    "Ahora veremos como representar funciones como valores en un lenguaje _**orientado a objetos**_ como _Scala_."
   ]
  },
  {
   "cell_type": "code",
   "execution_count": null,
   "metadata": {},
   "outputs": [],
   "source": [
    "def sumarUnoMet(n: Int): Int = {\n",
    "    n + 1\n",
    "}\n",
    "\n",
    "def restarUnoMet(n: Int): Int= {\n",
    "    n - 1\n",
    "}"
   ]
  },
  {
   "attachments": {},
   "cell_type": "markdown",
   "metadata": {},
   "source": [
    "Podemos crear una `class` cuya única función `apply` reciba un `Int` y devuelva otro."
   ]
  },
  {
   "cell_type": "code",
   "execution_count": null,
   "metadata": {},
   "outputs": [],
   "source": [
    "abstract class FunctionInt2Int {\n",
    "    def apply(n: Int): Int\n",
    "}"
   ]
  },
  {
   "attachments": {},
   "cell_type": "markdown",
   "metadata": {},
   "source": [
    "Ahora podemos implementar la función `call`:"
   ]
  },
  {
   "cell_type": "code",
   "execution_count": null,
   "metadata": {},
   "outputs": [],
   "source": [
    "def call(int2int: FunctionInt2Int, n: Int): Int = {\n",
    "    int2int.apply(n)\n",
    "}"
   ]
  },
  {
   "attachments": {},
   "cell_type": "markdown",
   "metadata": {},
   "source": [
    "Para poder usar la función `call` con `sumarUnoVal` y `restarUnoVal` creamos versiones materializadas de las mismas:"
   ]
  },
  {
   "cell_type": "code",
   "execution_count": null,
   "metadata": {},
   "outputs": [],
   "source": [
    "val sumarUnoVal: FunctionInt2Int = new FunctionInt2Int {\n",
    "    def apply(n: Int): Int = {\n",
    "        n + 1\n",
    "    }\n",
    "}\n",
    "\n",
    "val restarUnoVal: FunctionInt2Int = new FunctionInt2Int {\n",
    "    def apply(n: Int): Int = {\n",
    "        n - 1\n",
    "    }\n",
    "}"
   ]
  },
  {
   "cell_type": "code",
   "execution_count": null,
   "metadata": {},
   "outputs": [],
   "source": [
    "call(sumarUnoVal, 5)\n",
    "call(restarUnoVal, 9)"
   ]
  },
  {
   "attachments": {},
   "cell_type": "markdown",
   "metadata": {},
   "source": [
    "De hecho, los tipos (`Int => Int`, `Boolean => String`, etc.) son azúcar sintáctico para `Function1[Int, Int]`, `Function1[Boolean, String]`, etc."
   ]
  },
  {
   "cell_type": "code",
   "execution_count": null,
   "metadata": {},
   "outputs": [],
   "source": [
    "object Std {\n",
    "    trait Function1[A, B] {\n",
    "        def apply(a: A): B\n",
    "    }\n",
    "\n",
    "    trait Function2[A, B, C] {\n",
    "        def apply(a: A, b: B): C\n",
    "    }\n",
    "}"
   ]
  },
  {
   "cell_type": "code",
   "execution_count": null,
   "metadata": {},
   "outputs": [],
   "source": [
    "val sumarUnoVal: Function1[Int, Int] = new Function1[Int, Int] {\n",
    "    def apply(a: Int): Int = {\n",
    "        a + 1\n",
    "    }\n",
    "}"
   ]
  },
  {
   "cell_type": "code",
   "execution_count": null,
   "metadata": {},
   "outputs": [],
   "source": [
    "sumarUnoVal.apply(5)"
   ]
  },
  {
   "attachments": {},
   "cell_type": "markdown",
   "metadata": {},
   "source": [
    "También podemos usar la función sin nombrar el método `apply`:"
   ]
  },
  {
   "cell_type": "code",
   "execution_count": null,
   "metadata": {},
   "outputs": [],
   "source": [
    "sumarUnoVal(5)"
   ]
  },
  {
   "attachments": {},
   "cell_type": "markdown",
   "metadata": {},
   "source": [
    "### $3.2\\:Tipos\\:de\\:datos$"
   ]
  },
  {
   "attachments": {},
   "cell_type": "markdown",
   "metadata": {},
   "source": [
    "Los tipos en lenguajes orientados a objetos se especifican a través de `class` o `trait`. También se especifican a través de el mecanismo de herencia.\n",
    "\n",
    "En el caso de los lenguajes funcionales no se admite la herencia o las `class`, solo productos, sumas y exponenciación de tipos. Es por su correspondencia con la aritmética que se les llama **tipos algebraicos**."
   ]
  },
  {
   "attachments": {},
   "cell_type": "markdown",
   "metadata": {},
   "source": [
    "#### $Case\\:classes$"
   ]
  },
  {
   "cell_type": "code",
   "execution_count": null,
   "metadata": {},
   "outputs": [],
   "source": [
    "case class Rectangulo(ancho: Int, alto: Int)\n",
    "case class Circulo(radio: Int)\n",
    "case class Triangulo(base: Int, altura: Int)"
   ]
  },
  {
   "attachments": {},
   "cell_type": "markdown",
   "metadata": {},
   "source": [
    "Las `case class` son _companion objects_ (objeto declarado en el mismo archivo que una `class` y que tiene el mismo nombre que esa `class`)."
   ]
  },
  {
   "cell_type": "code",
   "execution_count": null,
   "metadata": {},
   "outputs": [],
   "source": [
    "Rectangulo(1, 1) == Rectangulo(1, 1)"
   ]
  },
  {
   "cell_type": "code",
   "execution_count": null,
   "metadata": {},
   "outputs": [],
   "source": [
    "Rectangulo(1, 1).hashCode"
   ]
  },
  {
   "attachments": {},
   "cell_type": "markdown",
   "metadata": {},
   "source": [
    "#### $Standard\\:products:\\:TupleN\\:classes$"
   ]
  },
  {
   "cell_type": "code",
   "execution_count": null,
   "metadata": {},
   "outputs": [],
   "source": [
    "object Std {\n",
    "    case class Tuple2[A, B](_1: A, _2: B)\n",
    "}"
   ]
  },
  {
   "attachments": {},
   "cell_type": "markdown",
   "metadata": {},
   "source": [
    "La librería estándar de Scala define una serie de clases `TupleN` para representar productos n-arios de tipos."
   ]
  },
  {
   "attachments": {},
   "cell_type": "markdown",
   "metadata": {},
   "source": [
    "Además, ofrece azúcar sintáctico tanto para las tuplas tipo como para los valores. Así, podemos escribir la siguiente función valor:"
   ]
  },
  {
   "cell_type": "code",
   "execution_count": null,
   "metadata": {},
   "outputs": [],
   "source": [
    "val t3: Tuple3[Int, String, Boolean] = Tuple3(1, \"uno\", true)"
   ]
  },
  {
   "attachments": {},
   "cell_type": "markdown",
   "metadata": {},
   "source": [
    "de la siguiente manera:"
   ]
  },
  {
   "cell_type": "code",
   "execution_count": null,
   "metadata": {},
   "outputs": [],
   "source": [
    "val a: (Int, String, Boolean) = (1, \"uno\", true)"
   ]
  },
  {
   "attachments": {},
   "cell_type": "markdown",
   "metadata": {},
   "source": [
    "#### $¿Por\\:qué\\:se\\:llaman\\:productos\\:algebraicos?$"
   ]
  },
  {
   "cell_type": "code",
   "execution_count": null,
   "metadata": {},
   "outputs": [],
   "source": [
    "true: Boolean\n",
    "false: Boolean\n",
    "\n",
    "(true, true): (Boolean, Boolean)\n",
    "(true, false): (Boolean, Boolean)\n",
    "(false, true): (Boolean, Boolean)\n",
    "(false, false): (Boolean, Boolean)"
   ]
  },
  {
   "attachments": {},
   "cell_type": "markdown",
   "metadata": {},
   "source": [
    "El cardinal $A * B$ para los tipos $A$ y $B$ es $|A * B| = |A| * |B|.$"
   ]
  },
  {
   "attachments": {},
   "cell_type": "markdown",
   "metadata": {},
   "source": [
    "#### $El\\:tipo\\:Unit$"
   ]
  },
  {
   "attachments": {},
   "cell_type": "markdown",
   "metadata": {},
   "source": [
    "El tipo `Unit` correspondería al elemento neutro de la multiplicación aritmética (el 1): $A * 1 \\cong A \\cong 1 * A$, donde $\\cong$ representa la isomorfía.\n",
    "El único valor de este tipo es `()`, que se escribe como `Unit`."
   ]
  },
  {
   "cell_type": "code",
   "execution_count": null,
   "metadata": {},
   "outputs": [],
   "source": [
    "val unit: Unit = ()"
   ]
  },
  {
   "attachments": {},
   "cell_type": "markdown",
   "metadata": {},
   "source": [
    "#### $Isomorfismo\\:de\\:tipos$"
   ]
  },
  {
   "attachments": {},
   "cell_type": "markdown",
   "metadata": {},
   "source": [
    "Podemos decir que dos tipos $A$ y $B$ son isomorfos si representan la misma información. Más técnicamente, si miramos los tipos como sets de valores, podemos decir que dos tipos son isomorfos si sus valores pueden ponerse en correspondencia uno a uno (podemos establecer una biyección entre los correspondientes sets de valores)."
   ]
  },
  {
   "attachments": {},
   "cell_type": "markdown",
   "metadata": {},
   "source": [
    "Para ello hemos de implementar dos funciones `from` y `to` y probar que ambas son inversas."
   ]
  },
  {
   "cell_type": "code",
   "execution_count": null,
   "metadata": {},
   "outputs": [],
   "source": [
    "trait Isomorfo[A, B] {\n",
    "    def from(a: A): B\n",
    "\n",
    "    def to(b: B): A\n",
    "\n",
    "    // Igualdad\n",
    "\n",
    "    def igualA(a1: A, a2: A): Boolean =\n",
    "        a1 == a2\n",
    "\n",
    "    def igualB(b1: B, b2: B): Boolean =\n",
    "        b1 == b2\n",
    "\n",
    "    // Leyes de biyección\n",
    "    \n",
    "    def law1(a: A): Boolean =\n",
    "        igualA(to(from(a)), a)\n",
    "\n",
    "    def law2(b: B): Boolean =\n",
    "        igualB(from(to(b)), b)\n",
    "}"
   ]
  },
  {
   "cell_type": "code",
   "execution_count": null,
   "metadata": {},
   "outputs": [],
   "source": [
    "object Iso extends Isomorfo[Boolean, (Boolean, Unit)] {\n",
    "    def from(b: Boolean): (Boolean, Unit) =\n",
    "        (b, ())\n",
    "\n",
    "    def to(p: (Boolean, Unit)): Boolean =\n",
    "        p._1\n",
    "}"
   ]
  },
  {
   "cell_type": "code",
   "execution_count": null,
   "metadata": {},
   "outputs": [],
   "source": [
    "Iso.to(Iso.from(true)) == true\n",
    "Iso.to(Iso.from(false)) == false\n",
    "Iso.from(Iso.to((true, ()))) == (true, ())\n",
    "Iso.from(Iso.to((false, ()))) == (false, ())"
   ]
  },
  {
   "cell_type": "code",
   "execution_count": null,
   "metadata": {},
   "outputs": [],
   "source": [
    "assert(Iso.law1(true))\n",
    "assert(Iso.law1(false))\n",
    "assert(Iso.law2((true, ())))\n",
    "assert(Iso.law2((false, ())))"
   ]
  },
  {
   "attachments": {},
   "cell_type": "markdown",
   "metadata": {},
   "source": [
    "Podemos ver que cualquier función que devuelva un valor de tipo `Unit` es inútil, ya que sabemos con anterioridad el único valor que puede devolver: `()`. Entonces, si una función que devuelve `Unit` tiene algún rol es porque es una función _impura_. Por ello decimos que una función `Unit` de Scala es el equivalente a una función `void` de Java."
   ]
  },
  {
   "attachments": {},
   "cell_type": "markdown",
   "metadata": {},
   "source": [
    "#### $Suma\\:de\\:tipos$"
   ]
  },
  {
   "attachments": {},
   "cell_type": "markdown",
   "metadata": {},
   "source": [
    "Dados dos tipos `A` y `B`, el tipo $A+B$ representa o un valor de tipo `A` o un valor de tipo `B`."
   ]
  },
  {
   "attachments": {},
   "cell_type": "markdown",
   "metadata": {},
   "source": [
    "Creamos y observamos valores de una suma de tipos $A+B$:\n",
    "- Inyección:\n",
    "    - `injA: A -> A + B`\n",
    "    - `injB: B -> A + B`\n",
    "- Match:\n",
    "    - `match: (A -> C) -> (B -> C) -> A + B -> C`"
   ]
  },
  {
   "attachments": {},
   "cell_type": "markdown",
   "metadata": {},
   "source": [
    "La función `match` es una _HOF_ que define cómo obtener $C$ a partir de $A$ y cómo obtener $C$ a partir de $B$. Entonces, sabemos cómo obtener $C$ a partir de $A+B$, ya que $A+B$ es o $A$ o $B$."
   ]
  },
  {
   "cell_type": "code",
   "execution_count": 15,
   "metadata": {},
   "outputs": [
    {
     "data": {
      "text/plain": [
       "defined \u001b[32mclass\u001b[39m \u001b[36mShape\u001b[39m\r\n",
       "defined \u001b[32mclass\u001b[39m \u001b[36mRectangulo\u001b[39m\r\n",
       "defined \u001b[32mclass\u001b[39m \u001b[36mTriangulo\u001b[39m\r\n",
       "defined \u001b[32mclass\u001b[39m \u001b[36mCirculo\u001b[39m"
      ]
     },
     "execution_count": 15,
     "metadata": {},
     "output_type": "execute_result"
    }
   ],
   "source": [
    "// Shape = Rectangulo + Triangulo + Circulo\n",
    "sealed abstract class Shape\n",
    "case class Rectangulo(ancho: Int, alto: Int) extends Shape\n",
    "case class Triangulo(base: Int, altura: Int) extends Shape\n",
    "case class Circulo(radio: Int) extends Shape"
   ]
  },
  {
   "attachments": {},
   "cell_type": "markdown",
   "metadata": {},
   "source": [
    "`sealed` previene la extensión de la jerarquía de herencia con las nuevas subclases. Es decir, en este caso, nos garantiza que `Shape` será $Rectangulo + Triangulo + Circulo$, y nada más."
   ]
  },
  {
   "attachments": {},
   "cell_type": "markdown",
   "metadata": {},
   "source": [
    "Creamos valores de tipo `Shape` usando los constructores de sus subclases:"
   ]
  },
  {
   "cell_type": "code",
   "execution_count": 16,
   "metadata": {},
   "outputs": [
    {
     "data": {
      "text/plain": [
       "\u001b[36ms1\u001b[39m: \u001b[32mShape\u001b[39m = \u001b[33mRectangulo\u001b[39m(ancho = \u001b[32m1\u001b[39m, alto = \u001b[32m1\u001b[39m)\r\n",
       "\u001b[36ms2\u001b[39m: \u001b[32mShape\u001b[39m = \u001b[33mTriangulo\u001b[39m(base = \u001b[32m2\u001b[39m, altura = \u001b[32m3\u001b[39m)\r\n",
       "\u001b[36ms3\u001b[39m: \u001b[32mShape\u001b[39m = \u001b[33mCirculo\u001b[39m(radio = \u001b[32m4\u001b[39m)"
      ]
     },
     "execution_count": 16,
     "metadata": {},
     "output_type": "execute_result"
    }
   ],
   "source": [
    "val s1: Shape = Rectangulo(1, 1)\n",
    "val s2: Shape = Triangulo(2, 3)\n",
    "val s3: Shape = Circulo(4)"
   ]
  },
  {
   "attachments": {},
   "cell_type": "markdown",
   "metadata": {},
   "source": [
    "Utilizamos el _pattern matching_:"
   ]
  },
  {
   "cell_type": "code",
   "execution_count": null,
   "metadata": {},
   "outputs": [],
   "source": [
    "val s: String = s3 match {\n",
    "    case r: Rectangulo => \"Rectangulo\" : String\n",
    "    case t: Triangulo => \"Triángulo\" : String\n",
    "    case c: Circulo => \"Círculo\" : String\n",
    "}"
   ]
  },
  {
   "attachments": {},
   "cell_type": "markdown",
   "metadata": {},
   "source": [
    "Cada `case` representa una función del tipo correspondiente a la subclase."
   ]
  },
  {
   "attachments": {},
   "cell_type": "markdown",
   "metadata": {},
   "source": [
    "##### $Suma\\:de\\:tipos\\:estándar$"
   ]
  },
  {
   "cell_type": "code",
   "execution_count": 21,
   "metadata": {},
   "outputs": [
    {
     "data": {
      "text/plain": [
       "defined \u001b[32mobject\u001b[39m \u001b[36mStdSumTypes\u001b[39m"
      ]
     },
     "execution_count": 21,
     "metadata": {},
     "output_type": "execute_result"
    }
   ],
   "source": [
    "object StdSumTypes {\n",
    "    sealed abstract class Option[A]\n",
    "    case class Some[A](a: A) extends Option[A]\n",
    "    case class None[A]() extends Option[A]\n",
    "\n",
    "    sealed abstract class Either[A, B]\n",
    "    case class Left[A, B](a: A) extends Either[A, B]\n",
    "    case class Right[A, B](b: B) extends Either[A, B]\n",
    "}"
   ]
  },
  {
   "attachments": {},
   "cell_type": "markdown",
   "metadata": {},
   "source": [
    "Los tipos `Either` y `Option` son importantes para la _gestión de errores_."
   ]
  },
  {
   "cell_type": "code",
   "execution_count": 22,
   "metadata": {},
   "outputs": [
    {
     "data": {
      "text/plain": [
       "defined \u001b[32mfunction\u001b[39m \u001b[36mdividirConExcepciones\u001b[39m"
      ]
     },
     "execution_count": 22,
     "metadata": {},
     "output_type": "execute_result"
    }
   ],
   "source": [
    "def dividirConExcepciones(a: Double, b: Double): Double = {\n",
    "    if (b == 0) throw new Exception(\"Has dividido por 0\")\n",
    "    else a / b\n",
    "}"
   ]
  },
  {
   "cell_type": "code",
   "execution_count": 26,
   "metadata": {},
   "outputs": [
    {
     "ename": "",
     "evalue": "",
     "output_type": "error",
     "traceback": [
      "\u001b[31mjava.lang.Exception: Has dividido por 0\u001b[39m\r\n  ammonite.$sess.cmd21$Helper.dividirConExcepciones(\u001b[32mcmd21.sc\u001b[39m:\u001b[32m2\u001b[39m)\r\n  ammonite.$sess.cmd25$Helper.<init>(\u001b[32mcmd25.sc\u001b[39m:\u001b[32m2\u001b[39m)\r\n  ammonite.$sess.cmd25$.<clinit>(\u001b[32mcmd25.sc\u001b[39m:\u001b[32m7\u001b[39m)"
     ]
    }
   ],
   "source": [
    "dividirConExcepciones(27, 9)\n",
    "dividirConExcepciones(2, 0)"
   ]
  },
  {
   "cell_type": "code",
   "execution_count": 27,
   "metadata": {},
   "outputs": [
    {
     "data": {
      "text/plain": [
       "defined \u001b[32mfunction\u001b[39m \u001b[36mdividirConOption\u001b[39m"
      ]
     },
     "execution_count": 27,
     "metadata": {},
     "output_type": "execute_result"
    }
   ],
   "source": [
    "def dividirConOption(a: Double, b: Double): Option[Double] = {\n",
    "    if (b == 0) Option.empty[Double]\n",
    "    else Some(a / b)\n",
    "}"
   ]
  },
  {
   "cell_type": "code",
   "execution_count": 28,
   "metadata": {},
   "outputs": [
    {
     "data": {
      "text/plain": [
       "\u001b[36mres27_0\u001b[39m: \u001b[32mOption\u001b[39m[\u001b[32mDouble\u001b[39m] = \u001b[33mSome\u001b[39m(value = \u001b[32m3.0\u001b[39m)\r\n",
       "\u001b[36mres27_1\u001b[39m: \u001b[32mOption\u001b[39m[\u001b[32mDouble\u001b[39m] = \u001b[32mNone\u001b[39m"
      ]
     },
     "execution_count": 28,
     "metadata": {},
     "output_type": "execute_result"
    }
   ],
   "source": [
    "dividirConOption(27, 9)\n",
    "dividirConOption(2, 0)"
   ]
  },
  {
   "cell_type": "code",
   "execution_count": 29,
   "metadata": {},
   "outputs": [
    {
     "data": {
      "text/plain": [
       "\u001b[36mmaybeDouble\u001b[39m: \u001b[32mOption\u001b[39m[\u001b[32mDouble\u001b[39m] = \u001b[32mNone\u001b[39m"
      ]
     },
     "execution_count": 29,
     "metadata": {},
     "output_type": "execute_result"
    }
   ],
   "source": [
    "val maybeDouble: Option[Double] =   \n",
    "    dividirConOption(2, 0)"
   ]
  },
  {
   "cell_type": "code",
   "execution_count": 1,
   "metadata": {},
   "outputs": [
    {
     "data": {
      "text/plain": [
       "defined \u001b[32mfunction\u001b[39m \u001b[36mdividirConEither\u001b[39m"
      ]
     },
     "execution_count": 1,
     "metadata": {},
     "output_type": "execute_result"
    }
   ],
   "source": [
    "def dividirConEither(a: Double, b: Double): Either[String, Double] = {\n",
    "    if (b == 0)\n",
    "        Left(\"Has dividido entre 0.\")\n",
    "    else    \n",
    "        Right(a / b)\n",
    "}"
   ]
  },
  {
   "cell_type": "code",
   "execution_count": 4,
   "metadata": {},
   "outputs": [
    {
     "data": {
      "text/plain": [
       "\u001b[36mres3_0\u001b[39m: \u001b[32mEither\u001b[39m[\u001b[32mString\u001b[39m, \u001b[32mDouble\u001b[39m] = \u001b[33mRight\u001b[39m(value = \u001b[32m1.0\u001b[39m)\r\n",
       "\u001b[36mres3_1\u001b[39m: \u001b[32mEither\u001b[39m[\u001b[32mString\u001b[39m, \u001b[32mDouble\u001b[39m] = \u001b[33mLeft\u001b[39m(value = \u001b[32m\"Has dividido entre 0.\"\u001b[39m)"
      ]
     },
     "execution_count": 4,
     "metadata": {},
     "output_type": "execute_result"
    }
   ],
   "source": [
    "dividirConEither(1, 1)\n",
    "dividirConEither(1, 0)"
   ]
  },
  {
   "cell_type": "code",
   "execution_count": 5,
   "metadata": {},
   "outputs": [
    {
     "data": {
      "text/plain": [
       "\u001b[36meitherDoubleOString\u001b[39m: \u001b[32mEither\u001b[39m[\u001b[32mString\u001b[39m, \u001b[32mDouble\u001b[39m] = \u001b[33mLeft\u001b[39m(\n",
       "  value = \u001b[32m\"Has dividido entre 0.\"\u001b[39m\n",
       ")"
      ]
     },
     "execution_count": 5,
     "metadata": {},
     "output_type": "execute_result"
    }
   ],
   "source": [
    "val eitherDoubleOString: Either[String, Double] =\n",
    "    dividirConEither(5, 0)"
   ]
  },
  {
   "attachments": {},
   "cell_type": "markdown",
   "metadata": {},
   "source": [
    "##### $El\\:tipo\\:0$"
   ]
  },
  {
   "attachments": {},
   "cell_type": "markdown",
   "metadata": {},
   "source": [
    "No tenemos que definirlo, sino que está incluido como `Nothing` en la librería estándar. Es por ello que si queremos devolver un valor de tipo `Nothing`, debemos escribir `throw new Exception(\"Error\")`."
   ]
  },
  {
   "cell_type": "code",
   "execution_count": 3,
   "metadata": {},
   "outputs": [
    {
     "data": {
      "text/html": [
       "<div class=\"jp-RenderedText\">\n",
       "<pre><code><span style=\"color: rgb(0, 187, 187)\"><span class=\"ansi-cyan-fg\">imposible</span></span>: <span style=\"color: rgb(0, 187, 0)\"><span class=\"ansi-green-fg\">Nothing</span></span> = <span style=\"color: white\"><span class=\"ansi-white-fg\">[lazy]</span></span></code></pre>\n",
       "</div>"
      ],
      "text/plain": [
       "\u001b[36mimposible\u001b[39m: \u001b[32mNothing\u001b[39m = \u001b[37m[lazy]\u001b[39m"
      ]
     },
     "metadata": {},
     "output_type": "display_data"
    }
   ],
   "source": [
    "lazy val imposible: Nothing =\n",
    "    throw new Exception(\"Error\")"
   ]
  },
  {
   "attachments": {},
   "cell_type": "markdown",
   "metadata": {},
   "source": [
    "`???` es una excepción de tipo `Nothing`."
   ]
  },
  {
   "attachments": {},
   "cell_type": "markdown",
   "metadata": {},
   "source": [
    "`Nothing` es una subclase de cualquier clase de Scala"
   ]
  },
  {
   "cell_type": "code",
   "execution_count": 4,
   "metadata": {},
   "outputs": [
    {
     "data": {
      "text/plain": [
       "defined \u001b[32mfunction\u001b[39m \u001b[36mi\u001b[39m"
      ]
     },
     "execution_count": 4,
     "metadata": {},
     "output_type": "execute_result"
    }
   ],
   "source": [
    "def i: Int = ???"
   ]
  },
  {
   "attachments": {},
   "cell_type": "markdown",
   "metadata": {},
   "source": [
    "El isomorfismo $Int + 0 \\cong Int$:"
   ]
  },
  {
   "cell_type": "code",
   "execution_count": 7,
   "metadata": {},
   "outputs": [
    {
     "data": {
      "text/plain": [
       "defined \u001b[32mclass\u001b[39m \u001b[36mIntOrNothing\u001b[39m\r\n",
       "defined \u001b[32mclass\u001b[39m \u001b[36mAnInt\u001b[39m\r\n",
       "defined \u001b[32mclass\u001b[39m \u001b[36mImpossible\u001b[39m\r\n",
       "defined \u001b[32mfunction\u001b[39m \u001b[36mfromInt\u001b[39m\r\n",
       "defined \u001b[32mfunction\u001b[39m \u001b[36mtoIntOrNothing\u001b[39m"
      ]
     },
     "execution_count": 7,
     "metadata": {},
     "output_type": "execute_result"
    }
   ],
   "source": [
    "// IntOrNothing := Int + Nothing\n",
    "\n",
    "sealed abstract class IntOrNothing\n",
    "case class AnInt(i: Int) extends IntOrNothing\n",
    "case class Impossible(n: Nothing) extends IntOrNothing\n",
    "\n",
    "def fromInt(s: IntOrNothing): Int = {\n",
    "    s match {\n",
    "        case AnInt(i) => i: Int\n",
    "        case Impossible(n) => (throw new Exception(\"Error\"))\n",
    "    }\n",
    "}\n",
    "\n",
    "def toIntOrNothing(i: Int): IntOrNothing = \n",
    "    AnInt(i)"
   ]
  }
 ],
 "metadata": {
  "kernelspec": {
   "display_name": "Scala",
   "language": "scala",
   "name": "scala"
  },
  "language_info": {
   "codemirror_mode": "text/x-scala",
   "file_extension": ".sc",
   "mimetype": "text/x-scala",
   "name": "scala",
   "nbconvert_exporter": "script",
   "version": "2.13.10"
  },
  "orig_nbformat": 4
 },
 "nbformat": 4,
 "nbformat_minor": 2
}
