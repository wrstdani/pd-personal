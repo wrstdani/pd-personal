{
 "cells": [
  {
   "attachments": {},
   "cell_type": "markdown",
   "metadata": {},
   "source": [
    "# $Tema\\:2.\\:Lenguajes\\:fuertemente\\:tipados\\:vs.\\:dinámicos$"
   ]
  },
  {
   "attachments": {},
   "cell_type": "markdown",
   "metadata": {},
   "source": [
    "### $2.2\\:Tipado\\:estático$"
   ]
  },
  {
   "attachments": {},
   "cell_type": "markdown",
   "metadata": {},
   "source": [
    "#### $Tipos\\:en\\:Scala$"
   ]
  },
  {
   "attachments": {},
   "cell_type": "markdown",
   "metadata": {},
   "source": [
    "**Scala** es un lenguaje fuertemente tipado. Es por ello que en funciones como la siguiente hemos de especificar el tipo de dato que se espera a la entrada y a la salida de las funciones."
   ]
  },
  {
   "cell_type": "code",
   "execution_count": null,
   "metadata": {},
   "outputs": [],
   "source": [
    "// Devolverá true si el número de letras en la string\n",
    "// es par, si no, devolverá false.\n",
    "\n",
    "def isEvenLength(x: String) =\n",
    "    x.length % 2 == 0"
   ]
  },
  {
   "attachments": {},
   "cell_type": "markdown",
   "metadata": {},
   "source": [
    "Ahora comprobaremos el correcto funcionamiento de `isEvenLength`:"
   ]
  },
  {
   "cell_type": "code",
   "execution_count": null,
   "metadata": {},
   "outputs": [],
   "source": [
    "isEvenLength(\"Hola\") // 4 letras, even/par\n",
    "isEvenLength(\"Cinco\") // 5 letras, even/par"
   ]
  },
  {
   "cell_type": "code",
   "execution_count": null,
   "metadata": {},
   "outputs": [],
   "source": [
    "isEvenLength(512) // El input es un int"
   ]
  },
  {
   "attachments": {},
   "cell_type": "markdown",
   "metadata": {},
   "source": [
    "Como podemos observar en el bloque anterior, si le pasamos un argumento de un tipo distinto a `String` a la función `isEvenLength` nos dará un error de compilación (_type error_)."
   ]
  },
  {
   "attachments": {},
   "cell_type": "markdown",
   "metadata": {},
   "source": [
    "Como podemos observar en la siguiente función (`foo`), el compilador no da error a pesar de que en la misma hemos definido una división entre 0. No obstante, si ejecutamos la función, nos dará un error de ejecución (_runtime error_)."
   ]
  },
  {
   "cell_type": "code",
   "execution_count": null,
   "metadata": {},
   "outputs": [],
   "source": [
    "def foo = 1/0"
   ]
  },
  {
   "cell_type": "code",
   "execution_count": null,
   "metadata": {},
   "outputs": [],
   "source": [
    "foo"
   ]
  },
  {
   "attachments": {},
   "cell_type": "markdown",
   "metadata": {},
   "source": [
    "#### $Inferencia\\:de\\:tipos$"
   ]
  },
  {
   "attachments": {},
   "cell_type": "markdown",
   "metadata": {},
   "source": [
    "El compilador de **Scala** es capaz de inferir el tipo de dato de una función a sí misma. Por ejemplo, en la función `isEvenLength` no hemos especificado un tipo de output, pero el compilador lo infiere por sí mismo."
   ]
  },
  {
   "attachments": {},
   "cell_type": "markdown",
   "metadata": {},
   "source": [
    "#### $Ascripción\\:de\\:tipos$"
   ]
  },
  {
   "cell_type": "code",
   "execution_count": null,
   "metadata": {},
   "outputs": [],
   "source": [
    "(2: Int) + (4: Int)"
   ]
  },
  {
   "attachments": {},
   "cell_type": "markdown",
   "metadata": {},
   "source": [
    "En el caso superior, le decimos al compilador que los datos 2 y 4 son de tipo `Int`, aunque el compilador lo infiera por sí mismo. Esto se conoce como _ascripción de tipos_."
   ]
  },
  {
   "attachments": {},
   "cell_type": "markdown",
   "metadata": {},
   "source": [
    "### $2.3\\:Programación\\:estructurada\\:en\\:Scala$"
   ]
  },
  {
   "attachments": {},
   "cell_type": "markdown",
   "metadata": {},
   "source": [
    "#### $Variables,\\:valores\\:y\\:tipos$"
   ]
  },
  {
   "cell_type": "code",
   "execution_count": null,
   "metadata": {},
   "outputs": [],
   "source": [
    "var x: Int = 3"
   ]
  },
  {
   "attachments": {},
   "cell_type": "markdown",
   "metadata": {},
   "source": [
    "En el ejemplo de arriba, `a` será el nombre de la variable, `Int` será el tipo de dato y `1`, el valor inicial de la variable. "
   ]
  },
  {
   "cell_type": "code",
   "execution_count": null,
   "metadata": {},
   "outputs": [],
   "source": [
    "// El valor inicial de la x será\n",
    "\n",
    "x"
   ]
  },
  {
   "cell_type": "code",
   "execution_count": null,
   "metadata": {},
   "outputs": [],
   "source": [
    "// Cambiamos su valor\n",
    "\n",
    "x = 7"
   ]
  },
  {
   "cell_type": "code",
   "execution_count": null,
   "metadata": {},
   "outputs": [],
   "source": [
    "// Nuevo valor de la x\n",
    "\n",
    "x"
   ]
  },
  {
   "attachments": {},
   "cell_type": "markdown",
   "metadata": {},
   "source": [
    "Existen otro tipo de variables: las **variables inmutables** (_`val`_)."
   ]
  },
  {
   "cell_type": "code",
   "execution_count": null,
   "metadata": {},
   "outputs": [],
   "source": [
    "val y: Int = 2"
   ]
  },
  {
   "cell_type": "code",
   "execution_count": null,
   "metadata": {},
   "outputs": [],
   "source": [
    "y = 3"
   ]
  },
  {
   "attachments": {},
   "cell_type": "markdown",
   "metadata": {},
   "source": [
    "Como podemos observar, la variablle `y` no puede ser modificada, ya que es una variable inmutable."
   ]
  },
  {
   "attachments": {},
   "cell_type": "markdown",
   "metadata": {},
   "source": [
    "#### $Methods$"
   ]
  },
  {
   "cell_type": "code",
   "execution_count": null,
   "metadata": {},
   "outputs": [],
   "source": [
    "import scala.math.{pow, Pi}\n",
    "\n",
    "def circleArea(radius: Double): Double =\n",
    "    Pi * pow(radius, 2)"
   ]
  },
  {
   "attachments": {},
   "cell_type": "markdown",
   "metadata": {},
   "source": [
    "Los `methods` representan el comportqamiento de `classes` y `objects`."
   ]
  },
  {
   "attachments": {},
   "cell_type": "markdown",
   "metadata": {},
   "source": [
    "Con el siguiente bloque de código podemos averiguar los tipos de datos(_input_ y _output_) de una función `method` (en este caso, `CircleArea`)."
   ]
  },
  {
   "cell_type": "code",
   "execution_count": null,
   "metadata": {},
   "outputs": [],
   "source": [
    "circleArea _"
   ]
  },
  {
   "attachments": {},
   "cell_type": "markdown",
   "metadata": {},
   "source": [
    "#### $Estructuras\\:de\\:control$"
   ]
  },
  {
   "attachments": {},
   "cell_type": "markdown",
   "metadata": {},
   "source": [
    "##### $For-loops$"
   ]
  },
  {
   "attachments": {},
   "cell_type": "markdown",
   "metadata": {},
   "source": [
    "Como ejemplo para explicar los bucles `for`, usaremos el siguiente bloque:"
   ]
  },
  {
   "cell_type": "code",
   "execution_count": null,
   "metadata": {},
   "outputs": [],
   "source": [
    "def sumatorio(a: Int, b: Int): Int = {\n",
    "    var contador: Int = 0\n",
    "    for (i <- a to b)\n",
    "        contador += i\n",
    "    contador\n",
    "}"
   ]
  },
  {
   "attachments": {},
   "cell_type": "markdown",
   "metadata": {},
   "source": [
    "Como podemos ver, el sumatorio está definido con una función `method` que recibe dos argumentos (`a` y `b`), los cuales son de tipo `Int`, y devuelve otro `Int`. En cuanto a su funcionamiento, declaramos una variable `contador` y le damos un valor original (el cual variará en cada iteración del bucle) de `0`. El bucle for comenzará en el valor de `a` y terminará en el valor de `b`. En cada iteración de este bucle se sumará la propia variable `i`, y se almacenará en `contador`."
   ]
  },
  {
   "cell_type": "code",
   "execution_count": null,
   "metadata": {},
   "outputs": [],
   "source": [
    "// Cuando la función no devuelve nada, se utiliza Unit como \n",
    "// output.\n",
    "def bucleCuadrados(a: Int, b: Int): Unit = {\n",
    "    for (i <- a to b)\n",
    "        println(\"El cuadrado de \" + i + \" es \" + i*i + \".\")\n",
    "}"
   ]
  },
  {
   "cell_type": "code",
   "execution_count": null,
   "metadata": {},
   "outputs": [],
   "source": [
    "bucleCuadrados(1, 6)"
   ]
  },
  {
   "attachments": {},
   "cell_type": "markdown",
   "metadata": {},
   "source": [
    "##### $If-then-else\\:expressions$"
   ]
  },
  {
   "cell_type": "code",
   "execution_count": null,
   "metadata": {},
   "outputs": [],
   "source": [
    "import scala.math.sqrt\n",
    "\n",
    "def esPrimo(n: Int): Boolean =\n",
    "    if (n <= 3)\n",
    "        n > 1\n",
    "    else if (n % 2 == 0 || n % 3 == 0) \n",
    "        false\n",
    "    else{\n",
    "        val limite: Int = sqrt(n).toInt\n",
    "        for (i <- 5 to (limite + 1) by 6) {\n",
    "            if (n % i == 0 || n % (i + 2) == 0)\n",
    "                false\n",
    "        }\n",
    "        true\n",
    "    }"
   ]
  },
  {
   "attachments": {},
   "cell_type": "markdown",
   "metadata": {},
   "source": [
    "##### $While\\:statements$"
   ]
  },
  {
   "cell_type": "code",
   "execution_count": null,
   "metadata": {},
   "outputs": [],
   "source": [
    "import scala.math.sqrt\n",
    "\n",
    "def esPrimoWhile(n: Int): Boolean =\n",
    "    if (n <= 3) n > 1\n",
    "    else if (n % 2 == 0 || n % 3 == 0) false\n",
    "    else {\n",
    "        val limit: Int = sqrt(n).toInt\n",
    "        var out = true\n",
    "        var i = 5\n",
    "        while (i <= limit+1 && out){\n",
    "            out = n % i != 0 && n % (i+2) != 0\n",
    "            i += 6\n",
    "        }\n",
    "        out\n",
    "    }"
   ]
  },
  {
   "cell_type": "code",
   "execution_count": null,
   "metadata": {},
   "outputs": [],
   "source": [
    "assert(esPrimoWhile(5))\n",
    "assert(esPrimoWhile(13))\n",
    "assert(!esPrimoWhile(15))\n",
    "assert(esPrimoWhile(1279))\n",
    "assert(!esPrimoWhile(200001))"
   ]
  },
  {
   "attachments": {},
   "cell_type": "markdown",
   "metadata": {},
   "source": [
    "## $Tema\\:3.\\:Datos\\:de\\:tipo\\:algebraico$"
   ]
  },
  {
   "attachments": {},
   "cell_type": "markdown",
   "metadata": {},
   "source": [
    "### $3.1\\:Funciones$"
   ]
  },
  {
   "attachments": {},
   "cell_type": "markdown",
   "metadata": {},
   "source": [
    "Las funciones puras sólo transforman un `input` en un `output`, y nada más."
   ]
  },
  {
   "cell_type": "code",
   "execution_count": null,
   "metadata": {},
   "outputs": [],
   "source": [
    "// Esta función suma 1 a la variable input de tipo Int.\n",
    "\n",
    "def pureAdd(input: Int): Int = {\n",
    "    input + 1\n",
    "}"
   ]
  },
  {
   "cell_type": "code",
   "execution_count": null,
   "metadata": {},
   "outputs": [],
   "source": [
    "pureAdd(3)"
   ]
  },
  {
   "attachments": {},
   "cell_type": "markdown",
   "metadata": {},
   "source": [
    "En cambio, las funciones impuras son aquellas que hacen algo más que devolver un `output`. La programación funcional se basa en el uso de funciones puras únicamente."
   ]
  },
  {
   "cell_type": "code",
   "execution_count": null,
   "metadata": {},
   "outputs": [],
   "source": [
    "def impureAdd(input: Int): Int = {\n",
    "    println(\"Sumamos 1 a \" + input + \".\")\n",
    "    input + 1\n",
    "}"
   ]
  },
  {
   "cell_type": "code",
   "execution_count": null,
   "metadata": {},
   "outputs": [],
   "source": [
    "impureAdd(3)"
   ]
  },
  {
   "attachments": {},
   "cell_type": "markdown",
   "metadata": {},
   "source": [
    "Las funciones impuras pueden aportar diversas funciones, como leer un input del usuario, escribir en la consola, etc. Esta clase de efectos son imprescindibles para que un programa sea realmente útil, por lo que las funciones puras se quedan cortas."
   ]
  },
  {
   "attachments": {},
   "cell_type": "markdown",
   "metadata": {},
   "source": [
    "#### $Funciones\\:aplicadas\\:a\\:modularidad$"
   ]
  },
  {
   "cell_type": "code",
   "execution_count": null,
   "metadata": {},
   "outputs": [],
   "source": [
    "val config: Map[String, String] = \n",
    "    Map(\"URL\" -> \"http://hablapps.com\",\n",
    "        \"PORT\" -> \"8080\")"
   ]
  },
  {
   "attachments": {},
   "cell_type": "markdown",
   "metadata": {},
   "source": [
    "La función del bloque superior declara los valores `\"URL\"` y `\"PORT\"`.\n",
    "Las dos siguientes `url` y `port` devuelven los valores de `\"URL\"` y `\"PORT\"`, respectivamente."
   ]
  },
  {
   "cell_type": "code",
   "execution_count": null,
   "metadata": {},
   "outputs": [],
   "source": [
    "val url: String = config.get(\"URL\") match {\n",
    "    case Some(u) => u\n",
    "    case None => \"default.url\"\n",
    "}"
   ]
  },
  {
   "cell_type": "code",
   "execution_count": null,
   "metadata": {},
   "outputs": [],
   "source": [
    "val port: String = config.get(\"PORT\") match {\n",
    "    case Some(p) => p \n",
    "    case None => \"8080\"\n",
    "}"
   ]
  },
  {
   "attachments": {},
   "cell_type": "markdown",
   "metadata": {},
   "source": [
    "Las funciones `url` y `port` (**monolíticas**) hacen prácticamente lo mismo, por lo que podemos definir una función **polimórfica** que haga lo mismo que ambas."
   ]
  },
  {
   "cell_type": "code",
   "execution_count": null,
   "metadata": {},
   "outputs": [],
   "source": [
    "def getKeyFrom(\n",
    "    config: Map[String, String],\n",
    "    key: String,\n",
    "    default: String): String = {\n",
    "        config.get(key) match {\n",
    "            case Some(p) => p\n",
    "            case None => default\n",
    "        }\n",
    "    }"
   ]
  },
  {
   "cell_type": "code",
   "execution_count": null,
   "metadata": {},
   "outputs": [],
   "source": [
    "val url: String = getKeyFrom(config, \"URL\", \"default.url\")"
   ]
  },
  {
   "cell_type": "code",
   "execution_count": null,
   "metadata": {},
   "outputs": [],
   "source": [
    "val port: String = getKeyFrom(config, \"PORT\", \"8080\")"
   ]
  },
  {
   "attachments": {},
   "cell_type": "markdown",
   "metadata": {},
   "source": [
    "#### $Funciones\\:método$"
   ]
  },
  {
   "attachments": {},
   "cell_type": "markdown",
   "metadata": {},
   "source": [
    "En un lenguaje orientado a objetos (como **Scala** o **Java**) las funciones se implementan como métodos usando `def`. Dichos métodos forman parte de un `object`, `class` o `trait`."
   ]
  },
  {
   "cell_type": "code",
   "execution_count": null,
   "metadata": {},
   "outputs": [],
   "source": [
    "import scala.math.{pow, Pi}\n",
    "\n",
    "object areaFormas {\n",
    "    def areaCirculo(radio: Double): Double = {\n",
    "        Pi * pow(radio, 2)\n",
    "    }\n",
    "\n",
    "    def areaRectangulo(ancho: Double, alto: Double): Double = {\n",
    "        ancho * alto\n",
    "    }\n",
    "}"
   ]
  },
  {
   "attachments": {},
   "cell_type": "markdown",
   "metadata": {},
   "source": [
    "A pesar de que en los `Jupyter Notebooks` parece que las funciones son independientes, no lo son."
   ]
  },
  {
   "attachments": {},
   "cell_type": "markdown",
   "metadata": {},
   "source": [
    "#### $Funciones\\:valor$"
   ]
  },
  {
   "attachments": {},
   "cell_type": "markdown",
   "metadata": {},
   "source": [
    "Las funciones pueden representarse como _values_, lo que permite implementar funciones que recivan otras funciones como argumentos. Estas se llaman _higher-order functions_ (HOF)."
   ]
  },
  {
   "cell_type": "code",
   "execution_count": null,
   "metadata": {},
   "outputs": [],
   "source": [
    "val i: Int = 3\n",
    "val s: String = \"hola\"\n",
    "val b: Boolean = true"
   ]
  },
  {
   "cell_type": "code",
   "execution_count": null,
   "metadata": {},
   "outputs": [],
   "source": [
    "// Funciones método\n",
    "\n",
    "def sumarUnoMet(n: Int): Int = {\n",
    "    n + 1\n",
    "}\n",
    "\n",
    "def restarUnoMet(n: Int): Int = {\n",
    "    n - 1\n",
    "}\n",
    "\n",
    "// Funciones valor\n",
    "\n",
    "val sumarUnoVal: Int => Int = {\n",
    "    (a: Int) => a + 1\n",
    "}\n",
    "\n",
    "val restarUnoVal: Int => Int = {\n",
    "    (a: Int) => a - 1\n",
    "}"
   ]
  },
  {
   "attachments": {},
   "cell_type": "markdown",
   "metadata": {},
   "source": [
    "En el caso de las funciones `sumarUnoVal` y `restarUnoVal` del bloque superior, las dos variables se llaman `sumarUnoVal` y `restarUnoVal`. A ellas se les asignan los _function values_ `(a: Int) => a + 1` y `(a: Int) => a - 1`, respectivamente. El tipo de ambas funciones es `Int => Int`. Esto se traduce en que las funciones valor constan de 2 partes: el **_input_** y el **_body_**, siendo la estructura: `(...input....) => body`. Cada argumento de entrada declara una variable y su respectivo tipo."
   ]
  },
  {
   "attachments": {},
   "cell_type": "markdown",
   "metadata": {},
   "source": [
    "Las funciones valor se comportan de la misma manera que las funciones método."
   ]
  },
  {
   "cell_type": "code",
   "execution_count": null,
   "metadata": {},
   "outputs": [],
   "source": [
    "sumarUnoVal(5)\n",
    "sumarUnoMet(5)\n",
    "restarUnoVal(5)\n",
    "restarUnoMet(5)"
   ]
  },
  {
   "attachments": {},
   "cell_type": "markdown",
   "metadata": {},
   "source": [
    "#### $Higher-order\\:functions\\:(HOF)$"
   ]
  },
  {
   "attachments": {},
   "cell_type": "markdown",
   "metadata": {},
   "source": [
    "Las **HOF** pueden recibir y/o devolver otras funciones."
   ]
  },
  {
   "cell_type": "code",
   "execution_count": null,
   "metadata": {},
   "outputs": [],
   "source": [
    "def call(def int2int(n: Int): Int, n: Int): Int = {\n",
    "    int2int(n)\n",
    "}"
   ]
  },
  {
   "attachments": {},
   "cell_type": "markdown",
   "metadata": {},
   "source": [
    "El código superior no es legal, ya que usamos **funciones método** (`def`). Es por ello que necesitamos **funciones valor**."
   ]
  },
  {
   "cell_type": "code",
   "execution_count": null,
   "metadata": {},
   "outputs": [],
   "source": [
    "def call(int2int: Int => Int, n: Int): Int = {\n",
    "    int2int(n)\n",
    "}"
   ]
  },
  {
   "cell_type": "code",
   "execution_count": null,
   "metadata": {},
   "outputs": [],
   "source": [
    "call(sumarUnoVal, 5)\n",
    "call(restarUnoVal, 5)"
   ]
  },
  {
   "attachments": {},
   "cell_type": "markdown",
   "metadata": {},
   "source": [
    "Como podemos ver, la función método `call` recibe 2 argumentos: por una parte, la función valor `int2int`, la cual se declara en la propia función método `call`, y por otra, un Int `n`."
   ]
  },
  {
   "cell_type": "code",
   "execution_count": null,
   "metadata": {},
   "outputs": [],
   "source": [
    "call(sumarUnoMet, 5)\n",
    "call(restarUnoMet, 5)"
   ]
  },
  {
   "attachments": {},
   "cell_type": "markdown",
   "metadata": {},
   "source": [
    "Además, podemos incluso usar otras **funciones método** como argumentos de entrada que se convierten al momento en **funciones valor**."
   ]
  },
  {
   "attachments": {},
   "cell_type": "markdown",
   "metadata": {},
   "source": [
    "Esta conversión se llama _eta-expansion_."
   ]
  },
  {
   "attachments": {},
   "cell_type": "markdown",
   "metadata": {},
   "source": [
    "#### $Currying$"
   ]
  },
  {
   "attachments": {},
   "cell_type": "markdown",
   "metadata": {},
   "source": [
    "Queremos convertir la siguiente función método `sumar2IntsMet` en una función valor."
   ]
  },
  {
   "cell_type": "code",
   "execution_count": null,
   "metadata": {},
   "outputs": [],
   "source": [
    "def sumar2IntsMet(x: Int, y: Int): Int = {\n",
    "    x + y\n",
    "}"
   ]
  },
  {
   "attachments": {},
   "cell_type": "markdown",
   "metadata": {},
   "source": [
    "Podemos hacer lo siguiente:"
   ]
  },
  {
   "cell_type": "code",
   "execution_count": null,
   "metadata": {},
   "outputs": [],
   "source": [
    "val sumar2IntsVal: (Int, Int) => Int = {\n",
    "    (a: Int, b: Int) => a + b\n",
    "}"
   ]
  },
  {
   "attachments": {},
   "cell_type": "markdown",
   "metadata": {},
   "source": [
    "O podemos servirnos de la **inferencia de tipos**."
   ]
  },
  {
   "cell_type": "code",
   "execution_count": null,
   "metadata": {},
   "outputs": [],
   "source": [
    "val sumar2IntsValInf: (Int, Int) => Int = {\n",
    "    (a, b) => a + b\n",
    "}"
   ]
  },
  {
   "attachments": {},
   "cell_type": "markdown",
   "metadata": {},
   "source": [
    "Normalmente podemos utilizar una función de un único argumento de entrada, pero si necesitamos crear una función de dos argumentos con uno solo podemos hacer lo siguiente:"
   ]
  },
  {
   "cell_type": "code",
   "execution_count": null,
   "metadata": {},
   "outputs": [],
   "source": [
    "val sumaCurr: Int => (Int => Int) = {\n",
    "    (a: Int) => (b: Int) => a + b\n",
    "}"
   ]
  },
  {
   "attachments": {},
   "cell_type": "markdown",
   "metadata": {},
   "source": [
    "Los paréntesis en `Int => (Int => Int)` no son necesarios, solo se utilizan para clarificar la expresión."
   ]
  },
  {
   "cell_type": "code",
   "execution_count": null,
   "metadata": {},
   "outputs": [],
   "source": [
    "sumaCurr(1): (Int => Int)"
   ]
  },
  {
   "cell_type": "code",
   "execution_count": null,
   "metadata": {},
   "outputs": [],
   "source": [
    "sumaCurr(1)(2)"
   ]
  },
  {
   "attachments": {},
   "cell_type": "markdown",
   "metadata": {},
   "source": [
    "Podemos aplicar esta técnica a funciones de cualquier número de argumentos. Su nombre es **_currying_**."
   ]
  },
  {
   "cell_type": "code",
   "execution_count": null,
   "metadata": {},
   "outputs": [],
   "source": [
    "def suma(x: Int)(y: Int): Int = {\n",
    "    x + y\n",
    "}"
   ]
  },
  {
   "cell_type": "code",
   "execution_count": null,
   "metadata": {},
   "outputs": [],
   "source": [
    "suma(1)(2)"
   ]
  },
  {
   "attachments": {},
   "cell_type": "markdown",
   "metadata": {},
   "source": [
    "#### $Composición\\:de\\:funciones$"
   ]
  },
  {
   "cell_type": "code",
   "execution_count": null,
   "metadata": {},
   "outputs": [],
   "source": [
    "val longPar: String => Boolean = {\n",
    "    (s: String) => s.length % 2 == 0\n",
    "}"
   ]
  },
  {
   "cell_type": "code",
   "execution_count": null,
   "metadata": {},
   "outputs": [],
   "source": [
    "longPar(\"hola\")"
   ]
  },
  {
   "attachments": {},
   "cell_type": "markdown",
   "metadata": {},
   "source": [
    "La función `longPar` es una combinación de dos funciones más básicas llamadas que llamaremos `long` y `esPar`."
   ]
  },
  {
   "cell_type": "code",
   "execution_count": null,
   "metadata": {},
   "outputs": [],
   "source": [
    "val long: String => Int = {\n",
    "    // sin inferencia de tipos:\n",
    "    // (s: String) => s.length\n",
    "    s => s.length\n",
    "}"
   ]
  },
  {
   "cell_type": "code",
   "execution_count": null,
   "metadata": {},
   "outputs": [],
   "source": [
    "val esPar: Int => Boolean = {\n",
    "    // sin inferencia de tipos:\n",
    "    // (i: Int) => i % 2 == 0\n",
    "    i => i % 2 == 0\n",
    "}"
   ]
  },
  {
   "attachments": {},
   "cell_type": "markdown",
   "metadata": {},
   "source": [
    "Podemos observar que en la siguiente función, llamada `longImpar`, ocurre lo mismo: "
   ]
  },
  {
   "cell_type": "code",
   "execution_count": null,
   "metadata": {},
   "outputs": [],
   "source": [
    "val longImpar: String => Boolean = {\n",
    "    (s: String) => s.toInt % 2 == 1\n",
    "}"
   ]
  },
  {
   "cell_type": "code",
   "execution_count": null,
   "metadata": {},
   "outputs": [],
   "source": [
    "val toInt: String => Int = {\n",
    "    (x: String) => x.toInt\n",
    "}\n",
    "\n",
    "val esImpar: Int => Boolean = {\n",
    "    (i: Int) => !esPar(i)\n",
    "}"
   ]
  },
  {
   "attachments": {},
   "cell_type": "markdown",
   "metadata": {},
   "source": [
    "Podemos crear una _higher-order function_ que nos permita componer dos funciones:"
   ]
  },
  {
   "cell_type": "code",
   "execution_count": null,
   "metadata": {},
   "outputs": [],
   "source": [
    "def compose(f2: Int => Boolean, f1: String => Int): String => Boolean = {\n",
    "    (a: String) => f2(f1(a))\n",
    "}"
   ]
  },
  {
   "cell_type": "code",
   "execution_count": null,
   "metadata": {},
   "outputs": [],
   "source": [
    "val esParComp: String => Boolean = {\n",
    "    compose(esPar, long)\n",
    "}"
   ]
  },
  {
   "cell_type": "code",
   "execution_count": null,
   "metadata": {},
   "outputs": [],
   "source": [
    "val esImparComp: String => Boolean = {\n",
    "    compose(esImpar, toInt)\n",
    "}"
   ]
  },
  {
   "attachments": {},
   "cell_type": "markdown",
   "metadata": {},
   "source": [
    "La función `compose` está definida por `Function1`:"
   ]
  },
  {
   "cell_type": "code",
   "execution_count": null,
   "metadata": {},
   "outputs": [],
   "source": [
    "val longPar: String => Boolean = {\n",
    "    esPar.compose(long)\n",
    "}"
   ]
  },
  {
   "cell_type": "code",
   "execution_count": null,
   "metadata": {},
   "outputs": [],
   "source": [
    "val longPar: String => Boolean = {\n",
    "    esPar compose long\n",
    "}"
   ]
  },
  {
   "attachments": {},
   "cell_type": "markdown",
   "metadata": {},
   "source": [
    "También existe una función similar a `compose` llamada `andThen` en la librería estándar de Scala:"
   ]
  },
  {
   "cell_type": "code",
   "execution_count": null,
   "metadata": {},
   "outputs": [],
   "source": [
    "val longPar: String => Boolean = {\n",
    "    long andThen esPar\n",
    "}"
   ]
  },
  {
   "cell_type": "code",
   "execution_count": null,
   "metadata": {},
   "outputs": [],
   "source": [
    "longPar(\"hola\")"
   ]
  },
  {
   "attachments": {},
   "cell_type": "markdown",
   "metadata": {},
   "source": [
    "#### $Polimorfismo\\:paramétrico$"
   ]
  },
  {
   "cell_type": "code",
   "execution_count": null,
   "metadata": {},
   "outputs": [],
   "source": [
    "val primerDigito: Int => Char = {\n",
    "    (x: Int) => x.toString.apply(0)\n",
    "}"
   ]
  },
  {
   "attachments": {},
   "cell_type": "markdown",
   "metadata": {},
   "source": [
    "En el caso de la función `primerDigito`, nos encontramos ante una composición de las funciones siguientes:"
   ]
  },
  {
   "cell_type": "code",
   "execution_count": null,
   "metadata": {},
   "outputs": [],
   "source": [
    "val intToString: Int => String = {\n",
    "    (x: Int) => x.toString\n",
    "}\n",
    "\n",
    "val caracter0: String => Char = {\n",
    "    (x: String) => x.apply(0)\n",
    "}"
   ]
  },
  {
   "attachments": {},
   "cell_type": "markdown",
   "metadata": {},
   "source": [
    "No podemos utilizar la función `compose` anterior, puesto que es monolítica. Por ello, necesitamos una función polimórfica:"
   ]
  },
  {
   "cell_type": "code",
   "execution_count": null,
   "metadata": {},
   "outputs": [],
   "source": [
    "def composePol[A, B, C](f2: B => C, f1: A => B): A => C = {\n",
    "    (a: A) => f2(f1(a))\n",
    "}"
   ]
  },
  {
   "cell_type": "code",
   "execution_count": null,
   "metadata": {},
   "outputs": [],
   "source": [
    "val primerDigitoComp: Int => Char = {\n",
    "    composePol(caracter0, intToString)\n",
    "}"
   ]
  },
  {
   "attachments": {},
   "cell_type": "markdown",
   "metadata": {},
   "source": [
    "La versión _curried_ de la función `composePol` es la siguiente:"
   ]
  },
  {
   "cell_type": "code",
   "execution_count": null,
   "metadata": {},
   "outputs": [],
   "source": [
    "def compose[A, B, C]: (B => C) => (A => B) => A => C = {\n",
    "    (f2: (B => C)) => (f1: (A => B)) => (a: A) => f2(f1(a))\n",
    "}"
   ]
  },
  {
   "attachments": {},
   "cell_type": "markdown",
   "metadata": {},
   "source": [
    "También existe la función `identity`, la cual devuelve el mismo valor que recibe como argumento. "
   ]
  },
  {
   "cell_type": "code",
   "execution_count": null,
   "metadata": {},
   "outputs": [],
   "source": [
    "def identity[A](a: A): A = a"
   ]
  },
  {
   "attachments": {},
   "cell_type": "markdown",
   "metadata": {},
   "source": [
    "También la podemos definir como expresión **_lambda_**:"
   ]
  },
  {
   "cell_type": "code",
   "execution_count": null,
   "metadata": {},
   "outputs": [],
   "source": [
    "def identity[A]: A => A = {\n",
    "    (a: A) => a\n",
    "}"
   ]
  },
  {
   "attachments": {},
   "cell_type": "markdown",
   "metadata": {},
   "source": [
    "#### $Azúcar\\:sintáctico\\:para\\:funciones\\:valor$"
   ]
  },
  {
   "attachments": {},
   "cell_type": "markdown",
   "metadata": {},
   "source": [
    "Podemos omitir los tipos de argumentos de entrada:"
   ]
  },
  {
   "cell_type": "code",
   "execution_count": null,
   "metadata": {},
   "outputs": [],
   "source": [
    "val sumarUnoVal: Int => Int = {\n",
    "    a => a + 1\n",
    "}\n",
    "\n",
    "val restarUnoVal: Int => Int = {\n",
    "    a => a - 1\n",
    "}"
   ]
  },
  {
   "attachments": {},
   "cell_type": "markdown",
   "metadata": {},
   "source": [
    "También podemos usar la **_underscore syntax_**:"
   ]
  },
  {
   "cell_type": "code",
   "execution_count": null,
   "metadata": {},
   "outputs": [],
   "source": [
    "val sumarUnoValUnder: Int => Int = {\n",
    "    _ + 1\n",
    "}\n",
    "\n",
    "val productoUnder: (Int, Int) => Int = {\n",
    "    _ * _\n",
    "}"
   ]
  },
  {
   "attachments": {},
   "cell_type": "markdown",
   "metadata": {},
   "source": [
    "#### $Funciones\\:como\\:valores$"
   ]
  },
  {
   "attachments": {},
   "cell_type": "markdown",
   "metadata": {},
   "source": [
    "Ahora veremos como representar funciones como valores en un lenguaje _**orientado a objetos**_ como _Scala_."
   ]
  },
  {
   "cell_type": "code",
   "execution_count": null,
   "metadata": {},
   "outputs": [],
   "source": [
    "def sumarUnoMet(n: Int): Int = {\n",
    "    n + 1\n",
    "}\n",
    "\n",
    "def restarUnoMet(n: Int): Int= {\n",
    "    n - 1\n",
    "}"
   ]
  },
  {
   "attachments": {},
   "cell_type": "markdown",
   "metadata": {},
   "source": [
    "Podemos crear una `class` cuya única función `apply` reciba un `Int` y devuelva otro."
   ]
  },
  {
   "cell_type": "code",
   "execution_count": null,
   "metadata": {},
   "outputs": [],
   "source": [
    "abstract class FunctionInt2Int {\n",
    "    def apply(n: Int): Int\n",
    "}"
   ]
  },
  {
   "attachments": {},
   "cell_type": "markdown",
   "metadata": {},
   "source": [
    "Ahora podemos implementar la función `call`:"
   ]
  },
  {
   "cell_type": "code",
   "execution_count": null,
   "metadata": {},
   "outputs": [],
   "source": [
    "def call(int2int: FunctionInt2Int, n: Int): Int = {\n",
    "    int2int.apply(n)\n",
    "}"
   ]
  },
  {
   "attachments": {},
   "cell_type": "markdown",
   "metadata": {},
   "source": [
    "Para poder usar la función `call` con `sumarUnoVal` y `restarUnoVal` creamos versiones materializadas de las mismas:"
   ]
  },
  {
   "cell_type": "code",
   "execution_count": null,
   "metadata": {},
   "outputs": [],
   "source": [
    "val sumarUnoVal: FunctionInt2Int = new FunctionInt2Int {\n",
    "    def apply(n: Int): Int = {\n",
    "        n + 1\n",
    "    }\n",
    "}\n",
    "\n",
    "val restarUnoVal: FunctionInt2Int = new FunctionInt2Int {\n",
    "    def apply(n: Int): Int = {\n",
    "        n - 1\n",
    "    }\n",
    "}"
   ]
  },
  {
   "cell_type": "code",
   "execution_count": null,
   "metadata": {},
   "outputs": [],
   "source": [
    "call(sumarUnoVal, 5)\n",
    "call(restarUnoVal, 9)"
   ]
  },
  {
   "cell_type": "code",
   "execution_count": null,
   "metadata": {},
   "outputs": [],
   "source": [
    "object Std {\n",
    "    trait Function1[A, B] {\n",
    "        def apply(a: A): B\n",
    "    }\n",
    "\n",
    "    trait Function2[A, B, C] {\n",
    "        def apply(a: A, b: B): C\n",
    "    }\n",
    "}"
   ]
  },
  {
   "cell_type": "code",
   "execution_count": null,
   "metadata": {},
   "outputs": [],
   "source": [
    "val sumarUnoVal: Function1[Int, Int] = new Function1[Int, Int] {\n",
    "    def apply(a: Int): Int = {\n",
    "        a + 1\n",
    "    }\n",
    "}"
   ]
  },
  {
   "cell_type": "code",
   "execution_count": null,
   "metadata": {},
   "outputs": [],
   "source": [
    "sumarUnoVal.apply(5)"
   ]
  },
  {
   "attachments": {},
   "cell_type": "markdown",
   "metadata": {},
   "source": [
    "También podemos usar la función sin nombrar el método `apply`:"
   ]
  },
  {
   "cell_type": "code",
   "execution_count": null,
   "metadata": {},
   "outputs": [],
   "source": [
    "sumarUnoVal(5)"
   ]
  }
 ],
 "metadata": {
  "kernelspec": {
   "display_name": "Scala",
   "language": "scala",
   "name": "scala"
  },
  "language_info": {
   "codemirror_mode": "text/x-scala",
   "file_extension": ".sc",
   "mimetype": "text/x-scala",
   "name": "scala",
   "nbconvert_exporter": "script",
   "version": "2.13.10"
  },
  "orig_nbformat": 4
 },
 "nbformat": 4,
 "nbformat_minor": 2
}
