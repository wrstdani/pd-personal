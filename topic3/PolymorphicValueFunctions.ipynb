{
 "cells": [
  {
   "cell_type": "code",
   "execution_count": 1,
   "id": "3d3bfc8a",
   "metadata": {},
   "outputs": [
    {
     "data": {
      "text/plain": [
       "defined \u001b[32mfunction\u001b[39m \u001b[36mcompose\u001b[39m"
      ]
     },
     "execution_count": 1,
     "metadata": {},
     "output_type": "execute_result"
    }
   ],
   "source": [
    "def compose[A, B, C](f2: B => C, f1: A => B): A => C = \n",
    "    a => f2(f1(a))"
   ]
  },
  {
   "cell_type": "code",
   "execution_count": 3,
   "id": "3f62aad7",
   "metadata": {},
   "outputs": [
    {
     "data": {
      "text/plain": [
       "\u001b[36mcompose\u001b[39m: \u001b[32mPolyFunction\u001b[39m{type apply = scala.PolyFunction {\n",
       "  def apply[A >: scala.Nothing <: scala.Any, B >: scala.Nothing <: scala.Any, C >: scala.Nothing <: scala.Any](x$1: scala.Function1[B, C], x$2: scala.Function1[A, B]): scala.Function1[A, C]\n",
       "}} = <function2>"
      ]
     },
     "execution_count": 3,
     "metadata": {},
     "output_type": "execute_result"
    }
   ],
   "source": [
    "val compose: [A, B, C] => (B => C, A => B) => A => C = \n",
    "    [A, B, C] => (f2: B => C, f1: A => B) => (a: A) => f2(f1(a))"
   ]
  },
  {
   "cell_type": "code",
   "execution_count": null,
   "id": "0898ee1e",
   "metadata": {},
   "outputs": [],
   "source": []
  }
 ],
 "metadata": {
  "kernelspec": {
   "display_name": "Scala 3.1.3",
   "language": "scala",
   "name": "scala313"
  },
  "language_info": {
   "codemirror_mode": "text/x-scala",
   "file_extension": ".sc",
   "mimetype": "text/x-scala",
   "name": "scala",
   "nbconvert_exporter": "script",
   "version": "2.13.8"
  }
 },
 "nbformat": 4,
 "nbformat_minor": 5
}
