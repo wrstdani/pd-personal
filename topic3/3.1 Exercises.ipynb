{
 "cells": [
  {
   "cell_type": "markdown",
   "metadata": {},
   "source": [
    "# Topic 3. Algebraic data types\n",
    "\n",
    "## 3.1 Functions"
   ]
  },
  {
   "cell_type": "markdown",
   "metadata": {},
   "source": [
    "## Exercise 1"
   ]
  },
  {
   "cell_type": "markdown",
   "metadata": {},
   "source": [
    "Implement the following _function-methods_ as standard _function-values_ without any syntactic sugar, i.e. as instances of the corresponding trait [Function1](https://www.scala-lang.org/api/current/scala/Function1.html), [Function2](https://www.scala-lang.org/api/current/scala/Function2.html), etc. Implement alternative versions using `object`/`val` declarations, and different levels of type inference."
   ]
  },
  {
   "cell_type": "code",
   "execution_count": null,
   "metadata": {},
   "outputs": [],
   "source": [
    "import scala.math._\n",
    "\n",
    "object FunctionMethods{\n",
    "    \n",
    "    def circleArea(radius: Double): Double = \n",
    "        Pi*pow(radius, 2)\n",
    "    \n",
    "    def triangleArea(base: Double, height: Double): Double = \n",
    "        base * height / 2\n",
    "    \n",
    "    def rectangleArea(width: Double, height: Double): Double = \n",
    "        width * height\n",
    "    \n",
    "    def trapezoidArea(width1: Double, width2: Double, height: Double): Double = \n",
    "        (width1 + width2) * height / 2 \n",
    "}"
   ]
  },
  {
   "cell_type": "code",
   "execution_count": 14,
   "metadata": {},
   "outputs": [
    {
     "data": {
      "text/plain": [
       "\u001b[32mimport \u001b[39m\u001b[36mscala.math._\n",
       "\n",
       "\u001b[39m\r\n",
       "defined \u001b[32mobject\u001b[39m \u001b[36mFunctionValuesNoSugar\u001b[39m"
      ]
     },
     "execution_count": 14,
     "metadata": {},
     "output_type": "execute_result"
    }
   ],
   "source": [
    "import scala.math._\n",
    "\n",
    "object FunctionValuesNoSugar{\n",
    "    \n",
    "    // object circleArea ...\n",
    "    object areaCirculoM extends Function1[Double, Double] {\n",
    "        def apply(radio: Double): Double = {\n",
    "            Pi * pow(radio, 2)\n",
    "        }\n",
    "    }\n",
    "\n",
    "    // object triangleArea ...\n",
    "    object areaTrianguloM extends Function2[Double, Double, Double] {\n",
    "        def apply(base: Double, altura: Double): Double = {\n",
    "            base * altura / 2\n",
    "        }\n",
    "    }\n",
    "\n",
    "    // val rectangleArea = ...\n",
    "    object areaRectanguloM extends Function2[Double, Double, Double] {\n",
    "        def apply(ancho: Double, alto: Double): Double = {\n",
    "            ancho * alto\n",
    "        }\n",
    "    }\n",
    "    \n",
    "    // val trapezoidArea: ... = ...\n",
    "    object areaTrapezoideM extends Function3[Double, Double, Double, Double] {\n",
    "        def apply(ancho1: Double, ancho2: Double, altura: Double): Double = {\n",
    "            (ancho1 + ancho2) * altura / 2\n",
    "        }\n",
    "    }\n",
    "}"
   ]
  },
  {
   "cell_type": "markdown",
   "metadata": {},
   "source": [
    "## Exercise 2"
   ]
  },
  {
   "cell_type": "markdown",
   "metadata": {},
   "source": [
    "The same as in exercise 1, but using lambda expressions. Implement alternative versions with different levels of type inference and syntactic sugar (e.g. using _underscore_ syntax)."
   ]
  },
  {
   "cell_type": "code",
   "execution_count": 1,
   "metadata": {},
   "outputs": [
    {
     "data": {
      "text/plain": [
       "\u001b[32mimport \u001b[39m\u001b[36mscala.math._\n",
       "\n",
       "\u001b[39m\r\n",
       "defined \u001b[32mobject\u001b[39m \u001b[36mFunctionValuesSugar\u001b[39m"
      ]
     },
     "execution_count": 1,
     "metadata": {},
     "output_type": "execute_result"
    }
   ],
   "source": [
    "import scala.math._\n",
    "\n",
    "object FunctionValuesSugar{\n",
    "    \n",
    "    // val circleArea: ??? => ??? = ???\n",
    "    val areaCirculoV1: Double => Double = {\n",
    "        (radio: Double) => Pi * pow(radio, 2)\n",
    "    }\n",
    "    val areaCirculoV2 = (radio: Double) => Pi * pow(radio, 2)\n",
    "    val areaCirculoV3: Double => Double = {\n",
    "        Pi * pow(_, 2)\n",
    "    }\n",
    "    // val triangleArea: ??? => ??? = ???\n",
    "    val areaTrianguloV1: (Double, Double) => Double = {\n",
    "        (base: Double, altura: Double) => base * altura / 2\n",
    "    } \n",
    "    val areaTrianguloV2 = (base: Double, altura: Double) => base * altura / 2\n",
    "    val areaTrianguloV3: (Double, Double) => Double = {\n",
    "        _ * _ / 2\n",
    "    }\n",
    "    // val rectangleArea = ???\n",
    "    val areaRectanguloV1: (Double, Double) => Double = {\n",
    "        (ancho: Double, alto: Double) => ancho * alto\n",
    "    }\n",
    "    val areaRectanguloV2 = (ancho: Double, alto: Double) => ancho * alto\n",
    "    val areaRectanguloV3: (Double, Double) => Double = {\n",
    "        _ * _\n",
    "    }\n",
    "\n",
    "    // val trapezoidArea: ??? = ???\n",
    "    val areaTrapezoideV1: (Double, Double, Double) => Double = {\n",
    "        (ancho1: Double, ancho2: Double, alto: Double) => (ancho1 + ancho2) * alto / 2\n",
    "    }\n",
    "    val areaTrapezoideV2 = (ancho1: Double, ancho2: Double, alto: Double) => (ancho1 + ancho2) * alto / 2\n",
    "}"
   ]
  },
  {
   "cell_type": "markdown",
   "metadata": {},
   "source": [
    "## Exercise 3 "
   ]
  },
  {
   "cell_type": "markdown",
   "metadata": {},
   "source": [
    "Implement the function-methods as _currified_ function-values."
   ]
  },
  {
   "cell_type": "code",
   "execution_count": 5,
   "metadata": {},
   "outputs": [
    {
     "data": {
      "text/plain": [
       "\u001b[32mimport \u001b[39m\u001b[36mscala.math._\n",
       "\n",
       "\u001b[39m\r\n",
       "defined \u001b[32mobject\u001b[39m \u001b[36mFunctionValuesCurrified\u001b[39m"
      ]
     },
     "execution_count": 5,
     "metadata": {},
     "output_type": "execute_result"
    }
   ],
   "source": [
    "import scala.math._\n",
    "\n",
    "object FunctionValuesCurrified{\n",
    "    \n",
    "    // val circleArea = ...\n",
    "    val areaCirculo: Double => Double =\n",
    "        (radio: Double) => \n",
    "            Pi * pow(radio, 2)\n",
    "\n",
    "    // val triangleArea = ...\n",
    "    val areaTriangulo: Double => Double => Double =\n",
    "        (base: Double) => (altura: Double) => \n",
    "            base * altura / 2\n",
    "\n",
    "    // val rectangleArea = ...\n",
    "    val areaRectangulo: Double => Double => Double =\n",
    "        (ancho: Double) => (alto: Double) => \n",
    "            ancho * alto\n",
    "\n",
    "    // val trapezoid = ...\n",
    "    val areaTrapezoide: Double => Double => Double => Double =\n",
    "        (ancho1: Double) => (ancho2: Double) => (altura: Double) =>\n",
    "            (ancho1 + ancho2) * altura / 2\n",
    "\n",
    "}"
   ]
  },
  {
   "cell_type": "markdown",
   "metadata": {},
   "source": [
    "## Exercise 4"
   ]
  },
  {
   "cell_type": "markdown",
   "metadata": {},
   "source": [
    "Given the following monomorphic version of the `call` HOF "
   ]
  },
  {
   "cell_type": "code",
   "execution_count": null,
   "metadata": {},
   "outputs": [],
   "source": [
    "def call(f: Int => Int, a: Int): Int =\n",
    "    f(a)"
   ]
  },
  {
   "cell_type": "markdown",
   "metadata": {},
   "source": [
    "implement a polymorphic version as a function-method, so that it can work with multiple types (i.e. not only with functions of type `Int => Int`). Test that your implementation is correct by checking that the following examples compile and work as expected."
   ]
  },
  {
   "cell_type": "code",
   "execution_count": 6,
   "metadata": {},
   "outputs": [
    {
     "data": {
      "text/plain": [
       "defined \u001b[32mfunction\u001b[39m \u001b[36mcall\u001b[39m"
      ]
     },
     "execution_count": 6,
     "metadata": {},
     "output_type": "execute_result"
    }
   ],
   "source": [
    "def call[A, B](f: A => B, a: A): B =\n",
    "    f(a)"
   ]
  },
  {
   "cell_type": "code",
   "execution_count": null,
   "metadata": {},
   "outputs": [],
   "source": [
    "call[Int, Int](_ + 1, 1)\n",
    "call((i: Int) => i+1, 3)\n",
    "call(\"hello, \" + _, \"pepe\")\n",
    "call((_ : Int) > 0, 3)\n",
    "call((i: Int) => i < 0, 2)"
   ]
  },
  {
   "cell_type": "markdown",
   "metadata": {},
   "source": [
    "## Exercise 5"
   ]
  },
  {
   "cell_type": "markdown",
   "metadata": {},
   "source": [
    "Given the following monomorphic version of the `call` HOF "
   ]
  },
  {
   "cell_type": "code",
   "execution_count": null,
   "metadata": {},
   "outputs": [],
   "source": [
    "def call(f: Int => Int, a: Int): Int =\n",
    "    f(a)"
   ]
  },
  {
   "cell_type": "markdown",
   "metadata": {},
   "source": [
    "implement a polymorphic version as a currified function-value, so that it can work with multiple types. The implementation must comply with the following template:"
   ]
  },
  {
   "cell_type": "code",
   "execution_count": 8,
   "metadata": {},
   "outputs": [
    {
     "data": {
      "text/plain": [
       "defined \u001b[32mfunction\u001b[39m \u001b[36mcall\u001b[39m"
      ]
     },
     "execution_count": 8,
     "metadata": {},
     "output_type": "execute_result"
    }
   ],
   "source": [
    "// def call[A, B]: ... = ???\n",
    "def call[A, B]: (A => B) => A => B =\n",
    "    (f: A => B) => (a: A) => \n",
    "        f(a)"
   ]
  },
  {
   "cell_type": "markdown",
   "metadata": {},
   "source": [
    "Test that your implementation is correct by checking that the following examples compile and work as expected."
   ]
  },
  {
   "cell_type": "code",
   "execution_count": 10,
   "metadata": {},
   "outputs": [
    {
     "data": {
      "text/plain": [
       "\u001b[36mres9_0\u001b[39m: \u001b[32mInt\u001b[39m = \u001b[32m2\u001b[39m\r\n",
       "\u001b[36mres9_1\u001b[39m: \u001b[32mInt\u001b[39m = \u001b[32m4\u001b[39m\r\n",
       "\u001b[36mres9_2\u001b[39m: \u001b[32mString\u001b[39m = \u001b[32m\"hello, pepe\"\u001b[39m\r\n",
       "\u001b[36mres9_3\u001b[39m: \u001b[32mBoolean\u001b[39m = \u001b[32mtrue\u001b[39m\r\n",
       "\u001b[36mres9_4\u001b[39m: \u001b[32mBoolean\u001b[39m = \u001b[32mfalse\u001b[39m"
      ]
     },
     "execution_count": 10,
     "metadata": {},
     "output_type": "execute_result"
    }
   ],
   "source": [
    "call[Int, Int](_ + 1)(1)\n",
    "call((i: Int) => i+1)(3)\n",
    "call(\"hello, \" + _)(\"pepe\")\n",
    "call((_ : Int) > 0)(3)\n",
    "call((i: Int) => i < 0)(2)"
   ]
  }
 ],
 "metadata": {
  "kernelspec": {
   "display_name": "Scala",
   "language": "scala",
   "name": "scala"
  },
  "language_info": {
   "codemirror_mode": "text/x-scala",
   "file_extension": ".sc",
   "mimetype": "text/x-scala",
   "name": "scala",
   "nbconvert_exporter": "script",
   "version": "2.13.10"
  }
 },
 "nbformat": 4,
 "nbformat_minor": 2
}
